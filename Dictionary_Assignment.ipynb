{
  "nbformat": 4,
  "nbformat_minor": 0,
  "metadata": {
    "colab": {
      "provenance": []
    },
    "kernelspec": {
      "name": "python3",
      "display_name": "Python 3"
    },
    "language_info": {
      "name": "python"
    }
  },
  "cells": [
    {
      "cell_type": "markdown",
      "source": [
        "# **Dictionary Assignments**\n",
        " **- By Tushti Gupta SODS**"
      ],
      "metadata": {
        "id": "O-DIodf4n02h"
      }
    },
    {
      "cell_type": "markdown",
      "source": [
        "*Sort Python Dictionaries by Key or Value.*"
      ],
      "metadata": {
        "id": "yM7Luxa8oowz"
      }
    },
    {
      "cell_type": "code",
      "execution_count": null,
      "metadata": {
        "id": "0ctQ3VAAjpAe",
        "colab": {
          "base_uri": "https://localhost:8080/"
        },
        "outputId": "f5eef325-fc60-428a-a09b-5d6ff11d1fdf"
      },
      "outputs": [
        {
          "output_type": "stream",
          "name": "stdout",
          "text": [
            "{'name': 'Alice', 'age': 20, 'grade': 'A'}\n"
          ]
        }
      ],
      "source": [
        "student = {'name': 'Alice', 'age': 20, 'grade': 'A'}\n",
        "print(student)"
      ]
    },
    {
      "cell_type": "code",
      "source": [
        "# Sorting acc. to keys\n",
        "student.keys()"
      ],
      "metadata": {
        "colab": {
          "base_uri": "https://localhost:8080/"
        },
        "id": "G-JQSQxyoPQB",
        "outputId": "3b432eda-641c-44bf-8720-052fd67abc76"
      },
      "execution_count": null,
      "outputs": [
        {
          "output_type": "execute_result",
          "data": {
            "text/plain": [
              "dict_keys(['name', 'age', 'grade'])"
            ]
          },
          "metadata": {},
          "execution_count": 4
        }
      ]
    },
    {
      "cell_type": "code",
      "source": [
        "# Sorting acc. to values\n",
        "student.values()"
      ],
      "metadata": {
        "colab": {
          "base_uri": "https://localhost:8080/"
        },
        "id": "fOpnARzgoPMn",
        "outputId": "76c5d9ad-719b-4300-d98d-216518ffff85"
      },
      "execution_count": null,
      "outputs": [
        {
          "output_type": "execute_result",
          "data": {
            "text/plain": [
              "dict_values(['Alice', 20, 'A'])"
            ]
          },
          "metadata": {},
          "execution_count": 5
        }
      ]
    },
    {
      "cell_type": "markdown",
      "source": [
        "*Python dictionary with keys having multiple inputs*"
      ],
      "metadata": {
        "id": "9zWXIMTSoy3b"
      }
    },
    {
      "cell_type": "code",
      "source": [
        "fruit_basket = {\n",
        "    'apple': ['red', 'sweet', 'crunchy'],\n",
        "    'banana': ['yellow', 'sweet', 'energizing'],\n",
        "    'orange': ['orange', 'citrusy', 'juicy']\n",
        "}\n",
        "print(fruit_basket)"
      ],
      "metadata": {
        "colab": {
          "base_uri": "https://localhost:8080/"
        },
        "id": "7JBZAKVEoPJ5",
        "outputId": "68b14263-74ea-4282-8cb6-a560679f7756"
      },
      "execution_count": null,
      "outputs": [
        {
          "output_type": "stream",
          "name": "stdout",
          "text": [
            "{'apple': ['red', 'sweet', 'crunchy'], 'banana': ['yellow', 'sweet', 'energizing'], 'orange': ['orange', 'citrusy', 'juicy']}\n"
          ]
        }
      ]
    },
    {
      "cell_type": "markdown",
      "source": [
        "*Python program to find the sum of all items in a dictionary*"
      ],
      "metadata": {
        "id": "m4qG_EGNpiZ8"
      }
    },
    {
      "cell_type": "code",
      "source": [
        "dict={'a':10,'b':20,'c':30}\n",
        "total=sum(dict.values())\n",
        "print(\"Sum of all the items in dictionary is:-\",total)"
      ],
      "metadata": {
        "id": "Ee-aQGOYoPDw",
        "colab": {
          "base_uri": "https://localhost:8080/"
        },
        "outputId": "510cd7f5-0aaf-419a-be4b-209480160522"
      },
      "execution_count": null,
      "outputs": [
        {
          "output_type": "stream",
          "name": "stdout",
          "text": [
            "Sum of all the items in dictionary is:- 60\n"
          ]
        }
      ]
    },
    {
      "cell_type": "markdown",
      "source": [
        "*Python program to find the size of a Dictionary*"
      ],
      "metadata": {
        "id": "Z-5pdQ-DBVnb"
      }
    },
    {
      "cell_type": "code",
      "source": [
        "dict={'a':10,'b':20,'c':30,'d':40}\n",
        "size=len(dict)\n",
        "print(\"The size of the dictionary is:- \",size)"
      ],
      "metadata": {
        "id": "yggeHgwVoO_X",
        "colab": {
          "base_uri": "https://localhost:8080/"
        },
        "outputId": "43fa4dea-ee40-43e3-e2f6-16b828c07d0b"
      },
      "execution_count": null,
      "outputs": [
        {
          "output_type": "stream",
          "name": "stdout",
          "text": [
            "The size of the dictionary is:-  4\n"
          ]
        }
      ]
    },
    {
      "cell_type": "markdown",
      "source": [
        "*Ways to sort list of dictionaries by values in Python – Using itemgetter*"
      ],
      "metadata": {
        "id": "Fn6gMhUeCPci"
      }
    },
    {
      "cell_type": "code",
      "source": [
        "list_of_dicts = [\n",
        "    {'name': 'Alice', 'age': 25},\n",
        "    {'name': 'Bob', 'age': 20},\n",
        "    {'name': 'Charlie', 'age': 30}\n",
        "]\n",
        "from operator import itemgetter\n",
        "sorted_list=sorted(list_of_dicts,key=itemgetter('age'))\n",
        "print(\"sorted List\",sorted_list)"
      ],
      "metadata": {
        "id": "OQLPIUTboO8G",
        "colab": {
          "base_uri": "https://localhost:8080/"
        },
        "outputId": "a281a671-cb74-4826-ccad-118a47cea4f2"
      },
      "execution_count": null,
      "outputs": [
        {
          "output_type": "stream",
          "name": "stdout",
          "text": [
            "sorted List [{'name': 'Bob', 'age': 20}, {'name': 'Alice', 'age': 25}, {'name': 'Charlie', 'age': 30}]\n"
          ]
        }
      ]
    },
    {
      "cell_type": "markdown",
      "source": [
        "*Ways to sort list of dictionaries by values in Python – Using lambda function*"
      ],
      "metadata": {
        "id": "YoH9JckgDsKa"
      }
    },
    {
      "cell_type": "code",
      "source": [
        "list_of_dicts = [\n",
        "    {'name': 'Alice', 'age': 25},\n",
        "    {'name': 'Bob', 'age': 20},\n",
        "    {'name': 'Charlie', 'age': 30}\n",
        "]\n",
        "sorted_list=sorted(list_of_dicts,key=lambda x:x['age'])\n",
        "print(\"Sorted List \",sorted_list)"
      ],
      "metadata": {
        "id": "PephOmZHoO6F",
        "colab": {
          "base_uri": "https://localhost:8080/"
        },
        "outputId": "e2b8b0e2-2014-411f-956a-651f7bca64e5"
      },
      "execution_count": null,
      "outputs": [
        {
          "output_type": "stream",
          "name": "stdout",
          "text": [
            "Sorted List  [{'name': 'Bob', 'age': 20}, {'name': 'Alice', 'age': 25}, {'name': 'Charlie', 'age': 30}]\n"
          ]
        }
      ]
    },
    {
      "cell_type": "markdown",
      "source": [
        "*Merging two Dictionaries*"
      ],
      "metadata": {
        "id": "W-oG9nfIEmBU"
      }
    },
    {
      "cell_type": "code",
      "source": [
        "dict1 = {'a': 1, 'b': 2}\n",
        "dict2 = {'b': 3, 'c': 4}\n",
        "\n",
        "# Using update() to merge dict2 into dict1\n",
        "dict1.update(dict2)\n",
        "print(dict1)"
      ],
      "metadata": {
        "id": "q7ZaBvisoO4A",
        "colab": {
          "base_uri": "https://localhost:8080/"
        },
        "outputId": "a6053c2d-1df7-4dd1-9d87-f880e7c77bba"
      },
      "execution_count": null,
      "outputs": [
        {
          "output_type": "stream",
          "name": "stdout",
          "text": [
            "{'a': 1, 'b': 3, 'c': 4}\n"
          ]
        }
      ]
    },
    {
      "cell_type": "markdown",
      "source": [
        "*Program to create grade calculator in Python*"
      ],
      "metadata": {
        "id": "0ex5Y1nxFIeT"
      }
    },
    {
      "cell_type": "code",
      "source": [
        "# Step 1: Create a dictionary with student names and scores\n",
        "student_scores={\n",
        "    \"Alice\":85,\n",
        "    \"Bob\":92,\n",
        "    \"Charlie\":76,\n",
        "    \"David\":59,\n",
        "    \"Eve\":68\n",
        "}\n",
        "# Step 2: Define a function to calculate grades based on score\n",
        "def calculate_grade(score):\n",
        "  if score>=90:\n",
        "    return \"A\"\n",
        "  elif score>=80:\n",
        "    return \"B\"\n",
        "  elif score>=70:\n",
        "    return \"C\"\n",
        "  elif score>=60:\n",
        "    return \"D\"\n",
        "  else:\n",
        "    return \"F\"\n",
        "# Step 3: Create a dictionary to store each student's grade\n",
        "student_grades={}\n",
        "# Step 4: Calculate grades for each student and store them in the dictionary\n",
        "for student,score in student_scores.items():\n",
        "  student_grades[student]=calculate_grade(score)\n",
        "  student_grades[student] = calculate_grade(score)\n",
        "\n",
        "# Step 5: Print the final grades\n",
        "print(\"Student Grades:\")\n",
        "for student,grade in student_grades.items():\n",
        "  print(f\"{student}:{grade}\")"
      ],
      "metadata": {
        "id": "YheZEwPooO1X",
        "colab": {
          "base_uri": "https://localhost:8080/"
        },
        "outputId": "fbf085ff-3844-4c2f-e2fc-48d785d8b530"
      },
      "execution_count": null,
      "outputs": [
        {
          "output_type": "stream",
          "name": "stdout",
          "text": [
            "Student Grades:\n",
            "Alice:B\n",
            "Bob:A\n",
            "Charlie:C\n",
            "David:F\n",
            "Eve:D\n"
          ]
        }
      ]
    },
    {
      "cell_type": "markdown",
      "source": [
        "*Insertion at the beginning in OrderedDict*"
      ],
      "metadata": {
        "id": "3siSRWONJsaH"
      }
    },
    {
      "cell_type": "code",
      "source": [
        "from collections import OrderedDict\n",
        "\n",
        "# Original OrderedDict\n",
        "ordered_dict = OrderedDict([('b', 2), ('c', 3)])\n",
        "print(\"Original OrderedDict:\", ordered_dict)\n",
        "\n",
        "# Insert item at the beginning\n",
        "new_item = OrderedDict([('a', 1)])\n",
        "ordered_dict = OrderedDict(list(new_item.items()) + list(ordered_dict.items()))\n",
        "\n",
        "print(\"After insertion at the beginning:\",ordered_dict)"
      ],
      "metadata": {
        "id": "3MpkEiX3oOyh",
        "colab": {
          "base_uri": "https://localhost:8080/"
        },
        "outputId": "9252216a-4c0c-4caa-88c9-1c4870460528"
      },
      "execution_count": null,
      "outputs": [
        {
          "output_type": "stream",
          "name": "stdout",
          "text": [
            "Original OrderedDict: OrderedDict([('b', 2), ('c', 3)])\n",
            "After insertion at the beginning: OrderedDict([('a', 1), ('b', 2), ('c', 3)])\n"
          ]
        }
      ]
    },
    {
      "cell_type": "markdown",
      "source": [
        "*Find common elements in three sorted arrays by dictionary intersection*"
      ],
      "metadata": {
        "id": "cAV_Ph-BT0UH"
      }
    },
    {
      "cell_type": "code",
      "source": [
        "array1=[1,2,4,5,6]\n",
        "array2=[2,4,6,8]\n",
        "array3=[4,6,8,10]\n",
        "# Step1- Convert each array into dicionaries\n",
        "dict1=dict.fromkeys(array1)\n",
        "dict2=dict.fromkeys(array2)\n",
        "dict3=dict.fromkeys(array3)\n",
        "\n",
        "# Step2- Find the intersection of keys\n",
        "common_elements=dict1.keys() & dict2.keys() & dict3.keys()\n",
        "\n",
        "# Convert the result to a list\n",
        "common_elements=list(common_elements)\n",
        "print(\"Common elements\",common_elements)"
      ],
      "metadata": {
        "id": "CR2tvt4-oOv9",
        "colab": {
          "base_uri": "https://localhost:8080/"
        },
        "outputId": "b1e3eff3-2bcb-4fdf-afa3-289b91a781e3"
      },
      "execution_count": null,
      "outputs": [
        {
          "output_type": "stream",
          "name": "stdout",
          "text": [
            "Common elements [4, 6]\n"
          ]
        }
      ]
    },
    {
      "cell_type": "markdown",
      "source": [
        "*Dictionary and counter in Python to find winner of election*"
      ],
      "metadata": {
        "id": "Fo5pVrJeWvdc"
      }
    },
    {
      "cell_type": "code",
      "source": [
        "from collections import Counter\n",
        "\n",
        "# List of votes, where each element represents a vote for a candidate\n",
        "votes = [\"Alice\", \"Bob\", \"Alice\", \"Charlie\", \"Bob\", \"Alice\", \"Bob\", \"Bob\"]\n",
        "\n",
        "# Step 1: Use Counter to count votes for each candidate\n",
        "vote_count = Counter(votes)\n",
        "\n",
        "# Step 2: Find the candidate with the maximum votes\n",
        "# This will return a list of (candidate, count) tuples\n",
        "winner = max(vote_count.items(), key=lambda x: (x[1], x[0]))\n",
        "\n",
        "# Print the winner\n",
        "print(\"The winner is:\",winner[0])"
      ],
      "metadata": {
        "id": "D11Hn3L0oOso",
        "colab": {
          "base_uri": "https://localhost:8080/"
        },
        "outputId": "989c2b68-c289-4869-c014-7b90058ac11c"
      },
      "execution_count": null,
      "outputs": [
        {
          "output_type": "stream",
          "name": "stdout",
          "text": [
            "The winner is: Bob\n"
          ]
        }
      ]
    },
    {
      "cell_type": "markdown",
      "source": [
        "*Key with maximum unique values*"
      ],
      "metadata": {
        "id": "dbe-DeSCXkUh"
      }
    },
    {
      "cell_type": "code",
      "source": [
        "data = {\n",
        "    'key1': [1, 2, 2, 3, 4],\n",
        "    'key2': [2, 3, 3, 4],\n",
        "    'key3': [4,5,6,6,7]\n",
        "}\n",
        "# Step 1: Calculate the number of unique values for each key\n",
        "unique_counts = {key: len(set(values)) for key, values in data.items()}\n",
        "\n",
        "# Step 2: Find the key with the maximum unique values\n",
        "max_key = max(unique_counts, key=unique_counts.get)\n",
        "\n",
        "print(\"Key with maximum unique values:\",max_key)"
      ],
      "metadata": {
        "id": "_ci1EBlWoOp7",
        "colab": {
          "base_uri": "https://localhost:8080/"
        },
        "outputId": "cad99cb7-1b0c-4795-b7ba-53bb2f16fea7"
      },
      "execution_count": null,
      "outputs": [
        {
          "output_type": "stream",
          "name": "stdout",
          "text": [
            "Key with maximum unique values: key1\n"
          ]
        }
      ]
    },
    {
      "cell_type": "markdown",
      "source": [
        "*Find all duplicate characters in string*"
      ],
      "metadata": {
        "id": "vj0A8inNmO6_"
      }
    },
    {
      "cell_type": "code",
      "source": [
        "from collections import Counter\n",
        "\n",
        "# Input string\n",
        "string = \"programming\"\n",
        "\n",
        "# Step 1: Count each character's occurrences\n",
        "char_count = Counter(string)\n",
        "\n",
        "# Step 2: Find characters with count greater than 1\n",
        "duplicates = [char for char, count in char_count.items() if count > 1]\n",
        "\n",
        "print(\"Duplicate characters:\",duplicates)"
      ],
      "metadata": {
        "id": "_sv29M-woOnX",
        "colab": {
          "base_uri": "https://localhost:8080/"
        },
        "outputId": "52f19e93-50ed-4c55-ffae-60aba1aba11c"
      },
      "execution_count": null,
      "outputs": [
        {
          "output_type": "stream",
          "name": "stdout",
          "text": [
            "Duplicate characters: ['r', 'g', 'm']\n"
          ]
        }
      ]
    },
    {
      "cell_type": "markdown",
      "source": [
        "*Group Similar items to Dictionary Values List*"
      ],
      "metadata": {
        "id": "Phzf7VlunAn6"
      }
    },
    {
      "cell_type": "code",
      "source": [
        "# Input list\n",
        "words = [\"apple\", \"apricot\", \"banana\", \"cherry\", \"blueberry\", \"avocado\", \"carrot\"]\n",
        "\n",
        "# Step 1: Initialize an empty dictionary for grouping\n",
        "grouped_words = {}\n",
        "\n",
        "# Step 2: Iterate through each word and group by first letter\n",
        "for word in words:\n",
        "    # Use the first letter of each word as the key\n",
        "    key = word[0]\n",
        "\n",
        "    # Add the word to the list of its corresponding key\n",
        "    if key not in grouped_words:\n",
        "        grouped_words[key] = []  # Initialize list if key is not present\n",
        "    grouped_words[key].append(word)\n",
        "\n",
        "# Print the grouped dictionary\n",
        "print(\"Grouped words by first letter:\",grouped_words)"
      ],
      "metadata": {
        "id": "7BUpd950oOkS",
        "colab": {
          "base_uri": "https://localhost:8080/"
        },
        "outputId": "6b67f37f-c5e6-4449-c1c9-14e98ab704d4"
      },
      "execution_count": null,
      "outputs": [
        {
          "output_type": "stream",
          "name": "stdout",
          "text": [
            "Grouped words by first letter: {'a': ['apple', 'apricot', 'avocado'], 'b': ['banana', 'blueberry'], 'c': ['cherry', 'carrot']}\n"
          ]
        }
      ]
    },
    {
      "cell_type": "markdown",
      "source": [
        "*Replace String by Kth Dictionary value*"
      ],
      "metadata": {
        "id": "BYc7EW7ioTxX"
      }
    },
    {
      "cell_type": "code",
      "source": [
        "data = {1: \"apple\", 2: \"banana\", 3: \"cherry\", 4: \"date\", 5: \"elderberry\"}\n",
        "\n",
        "# String to replace\n",
        "original_string = \"fruit\"\n",
        "\n",
        "# Define the position k\n",
        "k = 3  # For example, we want the 3rd value\n",
        "\n",
        "# Step 1: Get the k-th dictionary value\n",
        "# Check if k is within the dictionary's range\n",
        "if 1 <= k <= len(data):\n",
        "    replacement_value = list(data.values())[k - 1]\n",
        "\n",
        "    # Step 2: Replace the string\n",
        "    new_string = replacement_value\n",
        "else:\n",
        "    new_string = original_string  # If k is out of range, keep the original string\n",
        "\n",
        "print(\"Replaced string:\",new_string)"
      ],
      "metadata": {
        "id": "x41Nw2-ooOhp",
        "colab": {
          "base_uri": "https://localhost:8080/"
        },
        "outputId": "6e66ff87-4287-4a78-e6ce-820ef156d5c9"
      },
      "execution_count": null,
      "outputs": [
        {
          "output_type": "stream",
          "name": "stdout",
          "text": [
            "Replaced string: cherry\n"
          ]
        }
      ]
    },
    {
      "cell_type": "markdown",
      "source": [
        "*Ways to remove a key from dictionary*"
      ],
      "metadata": {
        "id": "ptuSuRh2pfBc"
      }
    },
    {
      "cell_type": "code",
      "source": [
        "# Using del method\n",
        "data = {\"a\": 1, \"b\": 2, \"c\": 3}\n",
        "del data[\"b\"]\n",
        "print(data)"
      ],
      "metadata": {
        "id": "XEaEVkRGoOev",
        "colab": {
          "base_uri": "https://localhost:8080/"
        },
        "outputId": "14b0f1bc-aae1-426b-e24f-f0306a45d134"
      },
      "execution_count": null,
      "outputs": [
        {
          "output_type": "stream",
          "name": "stdout",
          "text": [
            "{'a': 1, 'c': 3}\n"
          ]
        }
      ]
    },
    {
      "cell_type": "code",
      "source": [
        "# Using pop() method\n",
        "data = {\"a\": 1, \"b\": 2, \"c\": 3}\n",
        "value = data.pop(\"b\", None)  # Removes \"b\" and returns its value\n",
        "print(data)\n",
        "print(value)"
      ],
      "metadata": {
        "id": "VUAv5vuEoOcC",
        "colab": {
          "base_uri": "https://localhost:8080/"
        },
        "outputId": "421ba2e7-3076-45fc-eadc-86a663fffed2"
      },
      "execution_count": null,
      "outputs": [
        {
          "output_type": "stream",
          "name": "stdout",
          "text": [
            "{'a': 1, 'c': 3}\n",
            "2\n"
          ]
        }
      ]
    },
    {
      "cell_type": "code",
      "source": [
        "# Using  popitem() method\n",
        "data = {\"a\": 1, \"b\": 2, \"c\": 3}\n",
        "key, value = data.popitem()\n",
        "print(data)\n",
        "print(key, value)"
      ],
      "metadata": {
        "id": "g6Q0ap-HoOZX",
        "colab": {
          "base_uri": "https://localhost:8080/"
        },
        "outputId": "9c6fb13c-f48f-4b91-92e7-e262febf894e"
      },
      "execution_count": null,
      "outputs": [
        {
          "output_type": "stream",
          "name": "stdout",
          "text": [
            "{'a': 1, 'b': 2}\n",
            "c 3\n"
          ]
        }
      ]
    },
    {
      "cell_type": "markdown",
      "source": [
        "*Replace words from Dictionary*"
      ],
      "metadata": {
        "id": "-tl88bBrrvGq"
      }
    },
    {
      "cell_type": "code",
      "source": [
        "text = \"Hello world, welcome to the universe\"\n",
        "replacements = {\"world\": \"Earth\", \"universe\": \"cosmos\"}\n",
        "\n",
        "# Replace each word in the dictionary\n",
        "for old_word, new_word in replacements.items():\n",
        "    text = text.replace(old_word, new_word)\n",
        "\n",
        "print(text)"
      ],
      "metadata": {
        "id": "K0DRPfeUoOW7",
        "colab": {
          "base_uri": "https://localhost:8080/"
        },
        "outputId": "f4c9d903-1d28-4b31-b667-280c6128b984"
      },
      "execution_count": null,
      "outputs": [
        {
          "output_type": "stream",
          "name": "stdout",
          "text": [
            "Hello Earth, welcome to the cosmos\n"
          ]
        }
      ]
    },
    {
      "cell_type": "markdown",
      "source": [
        "*Remove Dictionary Key Words*"
      ],
      "metadata": {
        "id": "eArdFNWjr9pA"
      }
    },
    {
      "cell_type": "code",
      "source": [
        " data = {\"name\": \"Alice\", \"age\": 25, \"city\": \"New York\"}\n",
        "del data[\"age\"]\n",
        "print(data)"
      ],
      "metadata": {
        "id": "AxC3zSKZoOUY",
        "colab": {
          "base_uri": "https://localhost:8080/"
        },
        "outputId": "b792348a-5de4-4a59-e341-a7e8dd0612f8"
      },
      "execution_count": null,
      "outputs": [
        {
          "output_type": "stream",
          "name": "stdout",
          "text": [
            "{'name': 'Alice', 'city': 'New York'}\n"
          ]
        }
      ]
    },
    {
      "cell_type": "markdown",
      "source": [
        "*Remove duplicate values across Dictionary Values*"
      ],
      "metadata": {
        "id": "Kve9Qzb-xeHV"
      }
    },
    {
      "cell_type": "code",
      "source": [
        "data = {\n",
        "    \"a\": [1, 2, 2, 3],\n",
        "    \"b\": [3, 4, 4, 5],\n",
        "    \"c\": [6, 6, 7]\n",
        "}\n",
        "\n",
        "# Remove duplicates from each list (preserve order)\n",
        "for key, value in data.items():\n",
        "    data[key] = list(dict.fromkeys(value))\n",
        "\n",
        "print(data)"
      ],
      "metadata": {
        "id": "yhx9R1lWoOR2",
        "colab": {
          "base_uri": "https://localhost:8080/"
        },
        "outputId": "ff43a04c-fe7f-4fb3-9917-79dc110d1c6d"
      },
      "execution_count": null,
      "outputs": [
        {
          "output_type": "stream",
          "name": "stdout",
          "text": [
            "{'a': [1, 2, 3], 'b': [3, 4, 5], 'c': [6, 7]}\n"
          ]
        }
      ]
    },
    {
      "cell_type": "markdown",
      "source": [
        "*Dictionary to find mirror characters in a string*"
      ],
      "metadata": {
        "id": "fHJ0OlW2zMqF"
      }
    },
    {
      "cell_type": "code",
      "source": [
        "text = \"abccba\"\n",
        "\n",
        "# Dictionary to store mirror characters\n",
        "mirror_dict = {}\n",
        "\n",
        "# Iterate through the string up to the middle point\n",
        "for i in range(len(text)//2):\n",
        "    left_char = text[i]\n",
        "    right_char = text[len(text)-i-1]\n",
        "\n",
        "    # Add the pair to the dictionary\n",
        "    mirror_dict[left_char] = right_char\n",
        "    mirror_dict[right_char] = left_char\n",
        "\n",
        "# Print the dictionary of mirror characters\n",
        "print(mirror_dict)"
      ],
      "metadata": {
        "id": "FT5uB9IeoOPW",
        "colab": {
          "base_uri": "https://localhost:8080/"
        },
        "outputId": "d4e4613b-7eef-4395-c2e1-ccb1cdcfdcd8"
      },
      "execution_count": null,
      "outputs": [
        {
          "output_type": "stream",
          "name": "stdout",
          "text": [
            "{'a': 'a', 'b': 'b', 'c': 'c'}\n"
          ]
        }
      ]
    },
    {
      "cell_type": "markdown",
      "source": [
        "*Counting the frequencies in a list using dictionary in Python*"
      ],
      "metadata": {
        "id": "T8xJMLn3z1Z5"
      }
    },
    {
      "cell_type": "code",
      "source": [
        "data = [\"apple\", \"banana\", \"apple\", \"orange\", \"banana\", \"apple\", \"orange\"]\n",
        "\n",
        "# Dictionary to store frequencies\n",
        "frequency_dict = {}\n",
        "\n",
        "# Iterate through the list and count frequencies\n",
        "for item in data:\n",
        "    if item in frequency_dict:\n",
        "        frequency_dict[item] += 1  # Increment frequency by 1\n",
        "    else:\n",
        "        frequency_dict[item] = 1  # Initialize frequency to 1\n",
        "\n",
        "# Print the frequency dictionary\n",
        "print(frequency_dict)"
      ],
      "metadata": {
        "id": "xzUt-CD_oOMs",
        "colab": {
          "base_uri": "https://localhost:8080/"
        },
        "outputId": "f1a2ffdd-ea7b-44a7-af0b-a26a838a5c61"
      },
      "execution_count": null,
      "outputs": [
        {
          "output_type": "stream",
          "name": "stdout",
          "text": [
            "{'apple': 3, 'banana': 2, 'orange': 2}\n"
          ]
        }
      ]
    },
    {
      "cell_type": "markdown",
      "source": [
        "*Dictionary Values Mean*"
      ],
      "metadata": {
        "id": "QorZ-2j00bWN"
      }
    },
    {
      "cell_type": "code",
      "source": [
        "# Accessing Dictionary Values\n",
        "my_dict = {\n",
        "    \"name\": \"Alice\",\n",
        "    \"age\": 25,\n",
        "    \"city\": \"New York\"\n",
        "}\n",
        "\n",
        "# Accessing the value for key \"name\"\n",
        "print(my_dict[\"name\"])"
      ],
      "metadata": {
        "id": "wrhvENF4oOJt",
        "colab": {
          "base_uri": "https://localhost:8080/"
        },
        "outputId": "09a64819-25cf-4de7-a144-18e0bb957f61"
      },
      "execution_count": null,
      "outputs": [
        {
          "output_type": "stream",
          "name": "stdout",
          "text": [
            "Alice\n"
          ]
        }
      ]
    },
    {
      "cell_type": "code",
      "source": [
        "# Using .values() method\n",
        "values=my_dict.values()\n",
        "print(values)"
      ],
      "metadata": {
        "id": "nKJwv0ffoOHK",
        "colab": {
          "base_uri": "https://localhost:8080/"
        },
        "outputId": "d6ee14bb-9abb-46dc-d5d5-d3241fd5cf8f"
      },
      "execution_count": null,
      "outputs": [
        {
          "output_type": "stream",
          "name": "stdout",
          "text": [
            "dict_values(['Alice', 25, 'New York'])\n"
          ]
        }
      ]
    },
    {
      "cell_type": "code",
      "source": [
        "# Modifying Dictionary values\n",
        "my_dict[\"age\"] = 26\n",
        "\n",
        "print(my_dict)"
      ],
      "metadata": {
        "id": "Z6dccstboOEa",
        "colab": {
          "base_uri": "https://localhost:8080/"
        },
        "outputId": "6f94622b-13a2-4feb-f691-0ec763095c1b"
      },
      "execution_count": null,
      "outputs": [
        {
          "output_type": "stream",
          "name": "stdout",
          "text": [
            "{'name': 'Alice', 'age': 26, 'city': 'New York'}\n"
          ]
        }
      ]
    },
    {
      "cell_type": "code",
      "source": [
        "# Examples with Different types of values\n",
        "my_dict = {\n",
        "    \"name\": \"Alice\",\n",
        "    \"age\": 25,\n",
        "    \"is_student\": True,\n",
        "    \"courses\": [\"Math\", \"Science\"],\n",
        "    \"address\": {\"city\": \"New York\", \"zip\": \"10001\"}\n",
        "}\n",
        "\n",
        "# Accessing different types of values\n",
        "print(my_dict[\"name\"])\n",
        "print(my_dict[\"age\"])\n",
        "print(my_dict[\"is_student\"])\n",
        "print(my_dict[\"courses\"])\n",
        "print(my_dict[\"address\"])"
      ],
      "metadata": {
        "id": "eTnYNnCsoOBj",
        "colab": {
          "base_uri": "https://localhost:8080/"
        },
        "outputId": "41dc4826-6ae2-480b-a6bb-da54998a2b63"
      },
      "execution_count": null,
      "outputs": [
        {
          "output_type": "stream",
          "name": "stdout",
          "text": [
            "Alice\n",
            "25\n",
            "True\n",
            "['Math', 'Science']\n",
            "{'city': 'New York', 'zip': '10001'}\n"
          ]
        }
      ]
    },
    {
      "cell_type": "markdown",
      "source": [
        "*Maximum record value key in dictionary*"
      ],
      "metadata": {
        "id": "7cdM5uje28VI"
      }
    },
    {
      "cell_type": "code",
      "source": [
        "my_dict = {\n",
        "    \"apple\": 5,\n",
        "    \"banana\": 10,\n",
        "    \"orange\": 7,\n",
        "    \"grapes\": 3\n",
        "}\n",
        "\n",
        "# Find the key with the maximum value\n",
        "max_key = max(my_dict, key=my_dict.get)\n",
        "\n",
        "print(\"Key with maximum value:\",max_key)"
      ],
      "metadata": {
        "id": "5fHbiKGOoN-0",
        "colab": {
          "base_uri": "https://localhost:8080/"
        },
        "outputId": "b18c19d4-662e-4bd8-a8ea-0048720968e3"
      },
      "execution_count": null,
      "outputs": [
        {
          "output_type": "stream",
          "name": "stdout",
          "text": [
            "Key with maximum value: banana\n"
          ]
        }
      ]
    },
    {
      "cell_type": "markdown",
      "source": [
        "*Extract values of Particular Key in Nested Values*"
      ],
      "metadata": {
        "id": "m_psldHm44Nr"
      }
    },
    {
      "cell_type": "code",
      "source": [
        "nested_dict = {\n",
        "    \"student1\": {\"name\": \"Alice\", \"age\": 20},\n",
        "    \"student2\": {\"name\": \"Bob\", \"age\": 22},\n",
        "    \"student3\": {\"name\": \"Charlie\", \"age\": 23}\n",
        "}\n",
        "print(nested_dict)"
      ],
      "metadata": {
        "id": "b9vQOEj3oN7j",
        "colab": {
          "base_uri": "https://localhost:8080/"
        },
        "outputId": "24dc0e55-f02b-4cd9-82b6-4a80bcec1372"
      },
      "execution_count": null,
      "outputs": [
        {
          "output_type": "stream",
          "name": "stdout",
          "text": [
            "{'student1': {'name': 'Alice', 'age': 20}, 'student2': {'name': 'Bob', 'age': 22}, 'student3': {'name': 'Charlie', 'age': 23}}\n"
          ]
        }
      ]
    },
    {
      "cell_type": "code",
      "source": [
        "# Accessing Elements\n",
        "print(nested_dict['student2'])"
      ],
      "metadata": {
        "id": "Nz97gu58oN4j",
        "colab": {
          "base_uri": "https://localhost:8080/"
        },
        "outputId": "70e3d3a5-afe4-4dd7-8813-ebff49e476c4"
      },
      "execution_count": null,
      "outputs": [
        {
          "output_type": "stream",
          "name": "stdout",
          "text": [
            "{'name': 'Bob', 'age': 22}\n"
          ]
        }
      ]
    },
    {
      "cell_type": "code",
      "source": [
        "print(nested_dict['student1'])"
      ],
      "metadata": {
        "id": "Wv8lHhy-oN1m",
        "colab": {
          "base_uri": "https://localhost:8080/"
        },
        "outputId": "e6624414-da35-4c3f-8623-153b06188023"
      },
      "execution_count": null,
      "outputs": [
        {
          "output_type": "stream",
          "name": "stdout",
          "text": [
            "{'name': 'Alice', 'age': 20}\n"
          ]
        }
      ]
    },
    {
      "cell_type": "code",
      "source": [
        "print(nested_dict['student3'])"
      ],
      "metadata": {
        "id": "HHpQIw4AoNy5",
        "colab": {
          "base_uri": "https://localhost:8080/"
        },
        "outputId": "7b382f34-c0d7-4999-99d1-553d22d16171"
      },
      "execution_count": null,
      "outputs": [
        {
          "output_type": "stream",
          "name": "stdout",
          "text": [
            "{'name': 'Charlie', 'age': 23}\n"
          ]
        }
      ]
    },
    {
      "cell_type": "code",
      "source": [
        "# Accesing elements from particular key\n",
        "print(nested_dict['student2']['name'])"
      ],
      "metadata": {
        "id": "Js1wLob2oNuR",
        "colab": {
          "base_uri": "https://localhost:8080/"
        },
        "outputId": "92814186-2386-4db3-c2cb-ce483e752b96"
      },
      "execution_count": null,
      "outputs": [
        {
          "output_type": "stream",
          "name": "stdout",
          "text": [
            "Bob\n"
          ]
        }
      ]
    },
    {
      "cell_type": "code",
      "source": [
        "print(nested_dict['student1']['age'])"
      ],
      "metadata": {
        "id": "txNk_7zkoNqy",
        "colab": {
          "base_uri": "https://localhost:8080/"
        },
        "outputId": "205b8b39-f6c7-4f8f-bec6-4714d75ea674"
      },
      "execution_count": null,
      "outputs": [
        {
          "output_type": "stream",
          "name": "stdout",
          "text": [
            "20\n"
          ]
        }
      ]
    },
    {
      "cell_type": "code",
      "source": [
        "print(nested_dict['student3']['name'])"
      ],
      "metadata": {
        "id": "ZqOVBkHxoNog",
        "colab": {
          "base_uri": "https://localhost:8080/"
        },
        "outputId": "7ed85887-2f86-4774-b7fa-965b37e7d20f"
      },
      "execution_count": null,
      "outputs": [
        {
          "output_type": "stream",
          "name": "stdout",
          "text": [
            "Charlie\n"
          ]
        }
      ]
    }
  ]
}