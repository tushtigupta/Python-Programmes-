{
  "cells": [
    {
      "cell_type": "markdown",
      "metadata": {
        "id": "aKqT_XmWgHBa"
      },
      "source": [
        "# **Dictionaries are used to store data in Key:Value pairs**\n"
      ]
    },
    {
      "cell_type": "code",
      "execution_count": null,
      "metadata": {
        "colab": {
          "base_uri": "https://localhost:8080/"
        },
        "id": "4018_pOzgBfm",
        "outputId": "9601d978-0118-4c72-bb0b-1a477d6694e2"
      },
      "outputs": [
        {
          "output_type": "stream",
          "name": "stdout",
          "text": [
            "{'Brand': 'BMW', 'Model': 'ix', 'Year': 1964}\n"
          ]
        }
      ],
      "source": [
        "car_dict={'Brand':'BMW','Model':'ix','Year':1964}\n",
        "print(car_dict)"
      ]
    },
    {
      "cell_type": "code",
      "execution_count": null,
      "metadata": {
        "colab": {
          "base_uri": "https://localhost:8080/"
        },
        "id": "SOUx6McWgtEh",
        "outputId": "ae97a48d-fb67-4f47-eeb2-4817035ff29c"
      },
      "outputs": [
        {
          "output_type": "stream",
          "name": "stdout",
          "text": [
            "BMW\n"
          ]
        }
      ],
      "source": [
        "#Accessing Dictionary Elements\n",
        "print(car_dict['Brand'])"
      ]
    },
    {
      "cell_type": "code",
      "execution_count": null,
      "metadata": {
        "colab": {
          "base_uri": "https://localhost:8080/"
        },
        "id": "YKIN8ZxVg2Bg",
        "outputId": "ab317c70-196b-4c2e-e170-c7aa3db781f2"
      },
      "outputs": [
        {
          "output_type": "stream",
          "name": "stdout",
          "text": [
            "3\n"
          ]
        }
      ],
      "source": [
        "#Length Of Dictionary\n",
        "print(len(car_dict))"
      ]
    },
    {
      "cell_type": "code",
      "execution_count": null,
      "metadata": {
        "colab": {
          "base_uri": "https://localhost:8080/"
        },
        "id": "mK-Me8s5hSdM",
        "outputId": "898330e1-b3f9-4e29-a8a9-73d9023e12dc"
      },
      "outputs": [
        {
          "output_type": "stream",
          "name": "stdout",
          "text": [
            "<class 'dict'>\n"
          ]
        }
      ],
      "source": [
        "#Type Of Data\n",
        "print(type(car_dict))"
      ]
    },
    {
      "cell_type": "code",
      "execution_count": null,
      "metadata": {
        "colab": {
          "base_uri": "https://localhost:8080/"
        },
        "id": "kJAGfINkhsPj",
        "outputId": "9faf4d94-cadc-4867-c646-6a4ab9991cb9"
      },
      "outputs": [
        {
          "output_type": "stream",
          "name": "stdout",
          "text": [
            "{'Brand': 'BMW', 'Model': 'ix', 'Year': 2003}\n"
          ]
        }
      ],
      "source": [
        "# For Duplicate Key items\n",
        "car_dict={'Brand':'BMW','Model':'ix','Year':2025,'Year':2003}\n",
        "print(car_dict)\n"
      ]
    },
    {
      "cell_type": "code",
      "execution_count": null,
      "metadata": {
        "colab": {
          "base_uri": "https://localhost:8080/"
        },
        "id": "CEJMHRcuiCec",
        "outputId": "460a4943-2d67-41f4-9304-6f0a09d7c8b8"
      },
      "outputs": [
        {
          "output_type": "stream",
          "name": "stdout",
          "text": [
            "ix\n"
          ]
        }
      ],
      "source": [
        "#For Accessing Dict items\n",
        "x=car_dict.get('Model')\n",
        "print(x)"
      ]
    },
    {
      "cell_type": "code",
      "execution_count": null,
      "metadata": {
        "colab": {
          "base_uri": "https://localhost:8080/"
        },
        "id": "a2I-kqDOjA3s",
        "outputId": "423766c2-6e1b-4a55-8a09-5cad6b2bd8ee"
      },
      "outputs": [
        {
          "output_type": "execute_result",
          "data": {
            "text/plain": [
              "dict_keys(['Brand', 'Model', 'Year'])"
            ]
          },
          "metadata": {},
          "execution_count": 9
        }
      ],
      "source": [
        "#keys() Returns the key of Dict\n",
        "car_dict.keys()"
      ]
    },
    {
      "cell_type": "code",
      "execution_count": null,
      "metadata": {
        "colab": {
          "base_uri": "https://localhost:8080/"
        },
        "id": "fdImyR3Sc6qt",
        "outputId": "1212c936-5ba8-4330-cacd-424d51cba92a"
      },
      "outputs": [
        {
          "output_type": "execute_result",
          "data": {
            "text/plain": [
              "dict_values(['BMW', 'ix', 2003])"
            ]
          },
          "metadata": {},
          "execution_count": 10
        }
      ],
      "source": [
        "#values() Returns the values of Dict\n",
        "car_dict.values()"
      ]
    },
    {
      "cell_type": "code",
      "execution_count": null,
      "metadata": {
        "colab": {
          "base_uri": "https://localhost:8080/"
        },
        "id": "_ZDgZEl4dUE7",
        "outputId": "60a9f014-3acf-4bf8-9df5-196a7f07dea8"
      },
      "outputs": [
        {
          "output_type": "stream",
          "name": "stdout",
          "text": [
            "{'Brand': 'BMW', 'Model': 'ix', 'Year': 2024}\n"
          ]
        }
      ],
      "source": [
        "#To Change the values of Dictionaries\n",
        "car_dict[\"Year\"]=2024\n",
        "print(car_dict)"
      ]
    },
    {
      "cell_type": "code",
      "execution_count": null,
      "metadata": {
        "colab": {
          "base_uri": "https://localhost:8080/"
        },
        "id": "rKD7BQI2e3Kf",
        "outputId": "22714f03-293c-47bb-eedc-0be3dcefac39"
      },
      "outputs": [
        {
          "output_type": "stream",
          "name": "stdout",
          "text": [
            "{'Brand': 'BMW', 'Model': 'ix', 'Year': 2024, 'Color': 'White'}\n"
          ]
        }
      ],
      "source": [
        "#To add a new Key:Value pair\n",
        "car_dict['Color']='White'\n",
        "print(car_dict)"
      ]
    },
    {
      "cell_type": "code",
      "execution_count": null,
      "metadata": {
        "colab": {
          "base_uri": "https://localhost:8080/"
        },
        "id": "FhLTkTTvfyYK",
        "outputId": "3f4359ff-a735-47fb-f6f9-f425a5299ad5"
      },
      "outputs": [
        {
          "output_type": "stream",
          "name": "stdout",
          "text": [
            "{'Name': 'A', 'Year': 2023, 'Pass': True, 'Marks': [50, 60, 70]}\n"
          ]
        }
      ],
      "source": [
        "#The Values in the dictionary items can be of any data type\n",
        "d3={'Name':'A','Year':2023,'Pass':True, 'Marks':[50,60,70]}\n",
        "print(d3)\n"
      ]
    },
    {
      "cell_type": "code",
      "execution_count": null,
      "metadata": {
        "colab": {
          "base_uri": "https://localhost:8080/"
        },
        "id": "dntd-4ZKgyOJ",
        "outputId": "bb5c086c-b060-4787-8a12-6d50851f3633"
      },
      "outputs": [
        {
          "output_type": "stream",
          "name": "stdout",
          "text": [
            "{'Name': 'A', 'Year': 2024, 'Pass': True, 'Marks': [50, 60, 70]}\n"
          ]
        }
      ],
      "source": [
        "#Update()\n",
        "d3.update({'Year':2024})\n",
        "print(d3)\n"
      ]
    },
    {
      "cell_type": "code",
      "execution_count": null,
      "metadata": {
        "colab": {
          "base_uri": "https://localhost:8080/"
        },
        "id": "FPLkraQbhWcO",
        "outputId": "93d32e33-bbf8-42df-d253-6f7c008dc97c"
      },
      "outputs": [
        {
          "output_type": "stream",
          "name": "stdout",
          "text": [
            "{'Name': 'A', 'Year': 2023, 'Pass': True, 'Marks': [50, 60, 70], 'Phone_no': 94566}\n"
          ]
        }
      ],
      "source": [
        "d3['Phone_no']=94566\n",
        "print(d3)"
      ]
    },
    {
      "cell_type": "code",
      "execution_count": null,
      "metadata": {
        "colab": {
          "base_uri": "https://localhost:8080/"
        },
        "id": "ASPMALzGhwFD",
        "outputId": "41a07d9f-a481-47fc-b5d2-0e99414d4e05"
      },
      "outputs": [
        {
          "output_type": "stream",
          "name": "stdout",
          "text": [
            "{'Name': 'A', 'Year': 2023, 'Pass': True, 'Marks': [50, 60, 70], 'Phone_no': 94566, 'email': 'adsf@gmail.com'}\n"
          ]
        }
      ],
      "source": [
        "d3.update({\"email\":'adsf@gmail.com'})\n",
        "print(d3)"
      ]
    },
    {
      "cell_type": "code",
      "execution_count": null,
      "metadata": {
        "id": "MxmE4wjsiTVj",
        "colab": {
          "base_uri": "https://localhost:8080/"
        },
        "outputId": "7e2508af-d5ff-43f9-d4b5-89479b0d2ba7"
      },
      "outputs": [
        {
          "output_type": "stream",
          "name": "stdout",
          "text": [
            "{'Name': 'A', 'Year': 2024, 'Pass': True}\n"
          ]
        }
      ],
      "source": [
        "# Delete Dict\n",
        "del d3['Marks']\n",
        "print(d3)"
      ]
    },
    {
      "cell_type": "code",
      "source": [
        "del d3\n",
        "print(d3)"
      ],
      "metadata": {
        "colab": {
          "base_uri": "https://localhost:8080/",
          "height": 158
        },
        "id": "k_uYRNbugS36",
        "outputId": "5c355262-266b-4ade-e039-935fcc0aaa51"
      },
      "execution_count": null,
      "outputs": [
        {
          "output_type": "error",
          "ename": "NameError",
          "evalue": "name 'd3' is not defined",
          "traceback": [
            "\u001b[0;31m---------------------------------------------------------------------------\u001b[0m",
            "\u001b[0;31mNameError\u001b[0m                                 Traceback (most recent call last)",
            "\u001b[0;32m<ipython-input-18-e94867d46dc4>\u001b[0m in \u001b[0;36m<cell line: 2>\u001b[0;34m()\u001b[0m\n\u001b[1;32m      1\u001b[0m \u001b[0;32mdel\u001b[0m \u001b[0md3\u001b[0m\u001b[0;34m\u001b[0m\u001b[0;34m\u001b[0m\u001b[0m\n\u001b[0;32m----> 2\u001b[0;31m \u001b[0mprint\u001b[0m\u001b[0;34m(\u001b[0m\u001b[0md3\u001b[0m\u001b[0;34m)\u001b[0m\u001b[0;34m\u001b[0m\u001b[0;34m\u001b[0m\u001b[0m\n\u001b[0m",
            "\u001b[0;31mNameError\u001b[0m: name 'd3' is not defined"
          ]
        }
      ]
    },
    {
      "cell_type": "code",
      "source": [
        "# Clear()\n",
        "d3={'Name':'A','Year':2023,'Pass':True, 'Marks':[50,60,70]}\n",
        "print(d3)\n",
        "\n",
        "d3.clear()\n",
        "print(d3)\n"
      ],
      "metadata": {
        "colab": {
          "base_uri": "https://localhost:8080/"
        },
        "id": "TnhPOtrTgaN_",
        "outputId": "c4b50fea-a4cd-4689-8493-89d3b7a94b87"
      },
      "execution_count": null,
      "outputs": [
        {
          "output_type": "stream",
          "name": "stdout",
          "text": [
            "{'Name': 'A', 'Year': 2023, 'Pass': True, 'Marks': [50, 60, 70]}\n",
            "{}\n"
          ]
        }
      ]
    },
    {
      "cell_type": "code",
      "source": [
        "# Copy Dictionary\n",
        "d3={'Name':'A','Year':2023,'Pass':True, 'Marks':[50,60,70]}\n",
        "print(d3)"
      ],
      "metadata": {
        "colab": {
          "base_uri": "https://localhost:8080/"
        },
        "id": "Q4Uf3X78gt_I",
        "outputId": "68475eba-b05c-4d71-935d-f993d14ac572"
      },
      "execution_count": null,
      "outputs": [
        {
          "output_type": "stream",
          "name": "stdout",
          "text": [
            "{'Name': 'A', 'Year': 2023, 'Pass': True, 'Marks': [50, 60, 70]}\n"
          ]
        }
      ]
    },
    {
      "cell_type": "code",
      "source": [
        "d4=d3.copy()\n",
        "print(d4)"
      ],
      "metadata": {
        "colab": {
          "base_uri": "https://localhost:8080/"
        },
        "id": "bLZLKiyViZOw",
        "outputId": "ecce5f43-1b47-432f-f345-450e74117614"
      },
      "execution_count": null,
      "outputs": [
        {
          "output_type": "stream",
          "name": "stdout",
          "text": [
            "{'Name': 'A', 'Year': 2023, 'Pass': True, 'Marks': [50, 60, 70]}\n"
          ]
        }
      ]
    },
    {
      "cell_type": "code",
      "source": [
        "d5=dict(d4)\n",
        "print(d5)"
      ],
      "metadata": {
        "colab": {
          "base_uri": "https://localhost:8080/"
        },
        "id": "lzcBXWbAisWb",
        "outputId": "18fe1bcf-264a-46e3-f71e-2fbff9873ad3"
      },
      "execution_count": null,
      "outputs": [
        {
          "output_type": "stream",
          "name": "stdout",
          "text": [
            "{'Name': 'A', 'Year': 2023, 'Pass': True, 'Marks': [50, 60, 70]}\n"
          ]
        }
      ]
    },
    {
      "cell_type": "code",
      "source": [
        "# Nested dictionary"
      ],
      "metadata": {
        "id": "N7o5rS-4jJ2k"
      },
      "execution_count": null,
      "outputs": []
    },
    {
      "cell_type": "code",
      "source": [
        "myfamily={\n",
        "  \"Child1\":{\n",
        "   \"Name\":\"Vanshika\",\n",
        "   \"year\": 2004\n",
        "  },\n",
        "  \"Child2\":{\n",
        "   \"Name\":\"Tobtias\",\n",
        "   \"year\": 2007\n",
        "  },\n",
        "  \"Child3\":{\n",
        "   \"Name\":\"Linus\",\n",
        "   \"year\": 2011\n",
        "  }\n",
        " }\n",
        "print(myfamily)"
      ],
      "metadata": {
        "colab": {
          "base_uri": "https://localhost:8080/"
        },
        "id": "j94NJApEkIPW",
        "outputId": "db6ba504-06e4-4e26-ea91-2a483b4fd273"
      },
      "execution_count": null,
      "outputs": [
        {
          "output_type": "stream",
          "name": "stdout",
          "text": [
            "{'Child1': {'Name': 'Vanshika', 'year': 2004}, 'Child2': {'Name': 'Tobtias', 'year': 2007}, 'Child3': {'Name': 'Linus', 'year': 2011}}\n"
          ]
        }
      ]
    },
    {
      "cell_type": "code",
      "source": [
        "# Accessing Elements in Nested Dictionary\n"
      ],
      "metadata": {
        "id": "yR0MAwablLg4"
      },
      "execution_count": null,
      "outputs": []
    },
    {
      "cell_type": "code",
      "source": [
        "print(myfamily[\"Child2\"])"
      ],
      "metadata": {
        "colab": {
          "base_uri": "https://localhost:8080/"
        },
        "id": "-RWg39QHmvPf",
        "outputId": "e252362e-c7a9-47a3-8919-a6ca94aeb813"
      },
      "execution_count": null,
      "outputs": [
        {
          "output_type": "stream",
          "name": "stdout",
          "text": [
            "{'Name': 'Tobtias', 'year': 2007}\n"
          ]
        }
      ]
    },
    {
      "cell_type": "code",
      "source": [
        "print(myfamily[\"Child2\"][\"Name\"])"
      ],
      "metadata": {
        "colab": {
          "base_uri": "https://localhost:8080/"
        },
        "id": "fU1IOrtrm1SP",
        "outputId": "e2b1adbd-68cc-49b9-a4a9-a685da8dbc48"
      },
      "execution_count": null,
      "outputs": [
        {
          "output_type": "stream",
          "name": "stdout",
          "text": [
            "Tobtias\n"
          ]
        }
      ]
    },
    {
      "cell_type": "code",
      "source": [
        "print(myfamily[\"Child3\"][\"year\"])"
      ],
      "metadata": {
        "colab": {
          "base_uri": "https://localhost:8080/"
        },
        "id": "EjQlL-NOm8Yh",
        "outputId": "034a9f4e-566d-4861-d1f0-065e39684ab0"
      },
      "execution_count": null,
      "outputs": [
        {
          "output_type": "stream",
          "name": "stdout",
          "text": [
            "2011\n"
          ]
        }
      ]
    },
    {
      "cell_type": "code",
      "source": [],
      "metadata": {
        "id": "VDnuYBItnBb9"
      },
      "execution_count": null,
      "outputs": []
    }
  ],
  "metadata": {
    "colab": {
      "provenance": []
    },
    "kernelspec": {
      "display_name": "Python 3",
      "name": "python3"
    },
    "language_info": {
      "name": "python"
    }
  },
  "nbformat": 4,
  "nbformat_minor": 0
}