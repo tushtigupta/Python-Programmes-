{
  "cells": [
    {
      "cell_type": "markdown",
      "source": [
        "# **List Assignment**\n",
        "-By Tushti Gupta SODS"
      ],
      "metadata": {
        "id": "zB4Y0Kq06LZJ"
      },
      "id": "zB4Y0Kq06LZJ"
    },
    {
      "cell_type": "code",
      "execution_count": null,
      "id": "4ba3e3c7-9b3c-4713-8e23-fdae3e1a5a70",
      "metadata": {
        "id": "4ba3e3c7-9b3c-4713-8e23-fdae3e1a5a70",
        "outputId": "7952beda-c0fd-4584-d76f-c2d365280e65"
      },
      "outputs": [
        {
          "name": "stdout",
          "output_type": "stream",
          "text": [
            "['naina', 345, 345, 435, 436, 'sonakshi']\n"
          ]
        }
      ],
      "source": [
        "#1st answer\n",
        "List=[1434,345,345,435,436,34]\n",
        "List[0],List[-1]=\"naina\",\"sonakshi\"\n",
        "print(List)"
      ]
    },
    {
      "cell_type": "code",
      "execution_count": null,
      "id": "8b5d2830-30c4-493e-8d15-4b2212ed2419",
      "metadata": {
        "id": "8b5d2830-30c4-493e-8d15-4b2212ed2419",
        "outputId": "35a4c16c-9fb7-4d16-865b-a0c07110fcb2"
      },
      "outputs": [
        {
          "name": "stdout",
          "output_type": "stream",
          "text": [
            "['sonakshi', 'kakul', 'Shivam', 3, 1]\n"
          ]
        }
      ],
      "source": [
        "#2nd answer\n",
        "List=[1, 'kakul', 'Shivam', 3, 'sonakshi']\n",
        "List[0],List[-1]=List[-1],List[0]\n",
        "print(List)"
      ]
    },
    {
      "cell_type": "code",
      "execution_count": null,
      "id": "294be21e-44c6-4c55-ac32-98e18bb64bf2",
      "metadata": {
        "id": "294be21e-44c6-4c55-ac32-98e18bb64bf2",
        "outputId": "3f12b9dd-fd39-4d7d-9bcc-e29941b61873"
      },
      "outputs": [
        {
          "name": "stdout",
          "output_type": "stream",
          "text": [
            "['naina', 'kakul', 'Shivam', 'sonakshi', 'Nihal']\n"
          ]
        }
      ],
      "source": [
        "#3rd answer\n",
        "List=['naina', 'kakul', 'Shivam', 'Nihal', 'sonakshi']\n",
        "List[3],List[4]=List[4],List[3]\n",
        "print(List)"
      ]
    },
    {
      "cell_type": "code",
      "execution_count": null,
      "id": "c6de6d81-f7f9-4a2e-9fec-7f31e6c9ca37",
      "metadata": {
        "id": "c6de6d81-f7f9-4a2e-9fec-7f31e6c9ca37",
        "outputId": "b291451f-8d10-4156-e4dd-86343a64e392"
      },
      "outputs": [
        {
          "name": "stdout",
          "output_type": "stream",
          "text": [
            "4\n"
          ]
        }
      ],
      "source": [
        "#4th answer\n",
        "List=[1, 'kakul', 'Shivam', 'sonakshi']\n",
        "print(len(List))"
      ]
    },
    {
      "cell_type": "code",
      "execution_count": null,
      "id": "a81e1f11-a5c7-40ab-8339-2e79bd09faa9",
      "metadata": {
        "id": "a81e1f11-a5c7-40ab-8339-2e79bd09faa9",
        "outputId": "f7483002-d7c9-4505-b880-b590a547fbf4"
      },
      "outputs": [
        {
          "name": "stdout",
          "output_type": "stream",
          "text": [
            "3434\n"
          ]
        }
      ],
      "source": [
        "#5th answer\n",
        "List=[3434,3432]\n",
        "print(max(List))"
      ]
    },
    {
      "cell_type": "code",
      "execution_count": null,
      "id": "d29b7d1c-63ae-4759-8293-ac9664ac3c35",
      "metadata": {
        "id": "d29b7d1c-63ae-4759-8293-ac9664ac3c35",
        "outputId": "c19c9aa9-151f-457a-acdb-73d4aee3d8c9"
      },
      "outputs": [
        {
          "name": "stdout",
          "output_type": "stream",
          "text": [
            "23434\n"
          ]
        }
      ],
      "source": [
        "#6th answer\n",
        "List=[41341,23434]\n",
        "print(min(List))"
      ]
    },
    {
      "cell_type": "code",
      "execution_count": null,
      "id": "7c1fc010-a99f-4235-80eb-bfb1e6fd0045",
      "metadata": {
        "id": "7c1fc010-a99f-4235-80eb-bfb1e6fd0045",
        "outputId": "69d6a2d5-eaa3-4090-9eef-44f0862ecff0"
      },
      "outputs": [
        {
          "name": "stdout",
          "output_type": "stream",
          "text": [
            "Yes it exists\n"
          ]
        }
      ],
      "source": [
        "#7th answer\n",
        "List=['naina', 'kakul', 'Shivam', 'Nihal', 'sonakshi']\n",
        "if 'kakul' in  List:\n",
        "    print(\"Yes it exists\")\n",
        "else:\n",
        "    print(\"Not found\")"
      ]
    },
    {
      "cell_type": "code",
      "execution_count": null,
      "id": "8147a2ab-e0d3-4944-8c9e-6545e6d7c814",
      "metadata": {
        "id": "8147a2ab-e0d3-4944-8c9e-6545e6d7c814",
        "outputId": "df8aeb90-3c18-4c2d-fbcb-0061e4cbac89"
      },
      "outputs": [
        {
          "name": "stdout",
          "output_type": "stream",
          "text": [
            "[]\n"
          ]
        }
      ],
      "source": [
        "#8th answer\n",
        "List=['naina', 'kakul', 'Shivam', 'Nihal', 'sonakshi']\n",
        "List.clear()\n",
        "print(List)"
      ]
    },
    {
      "cell_type": "code",
      "execution_count": null,
      "id": "04074987-cecc-457b-8fe3-5a2171b37edb",
      "metadata": {
        "id": "04074987-cecc-457b-8fe3-5a2171b37edb",
        "outputId": "e0dd5975-af26-4c69-cd20-2bbd5c3a6198"
      },
      "outputs": [
        {
          "name": "stdout",
          "output_type": "stream",
          "text": [
            "[6, 5, 4, 3, 2, 1]\n"
          ]
        }
      ],
      "source": [
        "#9th answer\n",
        "List=[1,2,3,4,5,6]\n",
        "List.sort( reverse = True)\n",
        "print(List)"
      ]
    },
    {
      "cell_type": "code",
      "execution_count": null,
      "id": "ed270f75-911d-4067-bd52-803f68249ebc",
      "metadata": {
        "id": "ed270f75-911d-4067-bd52-803f68249ebc",
        "outputId": "eaf41da7-115b-4093-86fa-f328ce3f874a"
      },
      "outputs": [
        {
          "name": "stdout",
          "output_type": "stream",
          "text": [
            "['muskan', 'khushi', 'Sunil', 'Nikhil', 'sonali']\n"
          ]
        }
      ],
      "source": [
        "#10th answer\n",
        "List=['muskan', 'khushi', 'Sunil', 'Nikhil', 'sonali']\n",
        "List2=List.copy()\n",
        "print(List2)"
      ]
    },
    {
      "cell_type": "code",
      "execution_count": null,
      "id": "8f0041a0-7f82-442b-9d17-5b62a39d6ba8",
      "metadata": {
        "id": "8f0041a0-7f82-442b-9d17-5b62a39d6ba8",
        "outputId": "7b5c66fa-dbdd-4f3f-cbe3-ce937dabb778"
      },
      "outputs": [
        {
          "name": "stdout",
          "output_type": "stream",
          "text": [
            "3\n"
          ]
        }
      ],
      "source": [
        "#11 answer\n",
        "List=[1,2345,223,22,3,3,3,22,21,]\n",
        "Number=List.count(3)\n",
        "print(Number)"
      ]
    },
    {
      "cell_type": "code",
      "execution_count": null,
      "id": "b1909753-16e6-48e0-9e8b-b93c1c634d50",
      "metadata": {
        "id": "b1909753-16e6-48e0-9e8b-b93c1c634d50",
        "outputId": "079f29d3-66c0-4bbd-be14-45293d089fb9"
      },
      "outputs": [
        {
          "name": "stdout",
          "output_type": "stream",
          "text": [
            "675\n",
            "96.42857142857143\n"
          ]
        }
      ],
      "source": [
        "#12th answer\n",
        "List=[1,32,2,312,3,12,313]\n",
        "print(sum(List))\n",
        "print(sum(List)/len(List))    #we can't use avg formula in list so we divide total sum of list by the length of the list"
      ]
    },
    {
      "cell_type": "code",
      "execution_count": null,
      "id": "69e57bc6-740b-4999-ab81-5c49ed3da933",
      "metadata": {
        "id": "69e57bc6-740b-4999-ab81-5c49ed3da933",
        "outputId": "a04e9f57-f3ce-4402-ab11-50be97e095a9"
      },
      "outputs": [
        {
          "name": "stdout",
          "output_type": "stream",
          "text": [
            "54\n"
          ]
        }
      ],
      "source": [
        "#13th answer\n",
        "x=[1,2,3,23,2,23]\n",
        "y=0\n",
        "for i in x:\n",
        "    y+=i\n",
        "print(y)"
      ]
    },
    {
      "cell_type": "code",
      "execution_count": null,
      "id": "9d114157-191a-4f01-ba26-06d5fc688221",
      "metadata": {
        "id": "9d114157-191a-4f01-ba26-06d5fc688221",
        "outputId": "6122a584-c76a-4f3c-f178-ad7e4ccbe7d4"
      },
      "outputs": [
        {
          "name": "stdout",
          "output_type": "stream",
          "text": [
            "18216\n"
          ]
        }
      ],
      "source": [
        "#14th answer\n",
        "x=[23,2,3,11,12]\n",
        "y=1\n",
        "for i in x:\n",
        "  y*=i\n",
        "print(y)"
      ]
    },
    {
      "cell_type": "code",
      "execution_count": null,
      "id": "eeea5d63-be46-4d17-94a3-e928ba2cb70f",
      "metadata": {
        "id": "eeea5d63-be46-4d17-94a3-e928ba2cb70f",
        "outputId": "045140e4-9610-4402-be5f-25134ea3d9f7"
      },
      "outputs": [
        {
          "name": "stdout",
          "output_type": "stream",
          "text": [
            "2\n"
          ]
        }
      ],
      "source": [
        "#15th answer\n",
        "List=[23,2,3,11,12]\n",
        "print(min(List))"
      ]
    },
    {
      "cell_type": "code",
      "execution_count": null,
      "id": "c4925ccc-b415-4473-a3b1-92171659607f",
      "metadata": {
        "id": "c4925ccc-b415-4473-a3b1-92171659607f",
        "outputId": "826a4aa0-6784-4c97-85fa-3bc99db1647d"
      },
      "outputs": [
        {
          "name": "stdout",
          "output_type": "stream",
          "text": [
            "11\n"
          ]
        }
      ],
      "source": [
        "#16th answer\n",
        "List=[3,2,3,11,1]\n",
        "print(max(List))"
      ]
    },
    {
      "cell_type": "code",
      "execution_count": null,
      "id": "7fe4a361-69b0-45e3-a20b-fc599898b136",
      "metadata": {
        "id": "7fe4a361-69b0-45e3-a20b-fc599898b136"
      },
      "outputs": [],
      "source": [
        "#17th answer\n",
        "y=[21,45,78,43]\n",
        "z=[]\n",
        "if z==max(y):\n",
        "    print(z)"
      ]
    },
    {
      "cell_type": "code",
      "execution_count": null,
      "id": "9f488554-9d31-40bd-808c-349a8d366b12",
      "metadata": {
        "id": "9f488554-9d31-40bd-808c-349a8d366b12",
        "outputId": "8571c1be-40d8-431b-911f-27bf83388782"
      },
      "outputs": [
        {
          "name": "stdout",
          "output_type": "stream",
          "text": [
            "12\n",
            "16\n",
            "234\n"
          ]
        }
      ],
      "source": [
        "#18th answer\n",
        "c=[12,13,15,16,234,23,33]\n",
        "for i in c:\n",
        "    if i%2==0:\n",
        "        print(i)"
      ]
    },
    {
      "cell_type": "code",
      "execution_count": null,
      "id": "86abf615-c25e-4927-bbf6-067134db406a",
      "metadata": {
        "id": "86abf615-c25e-4927-bbf6-067134db406a",
        "outputId": "91940b09-e5d6-4128-a11a-a3e9e11e26ca"
      },
      "outputs": [
        {
          "name": "stdout",
          "output_type": "stream",
          "text": [
            "13\n",
            "15\n",
            "23\n",
            "33\n"
          ]
        }
      ],
      "source": [
        "#19th answer\n",
        "c=[12,13,15,16,234,23,33]\n",
        "for i in c:\n",
        "    if i%2==1:\n",
        "        print(i)"
      ]
    },
    {
      "cell_type": "code",
      "execution_count": null,
      "id": "56a6bf09-762b-45fd-ab61-9377a959a532",
      "metadata": {
        "id": "56a6bf09-762b-45fd-ab61-9377a959a532",
        "outputId": "ce7841f2-d5b9-40e1-c852-41b8515bf311"
      },
      "outputs": [
        {
          "name": "stdout",
          "output_type": "stream",
          "text": [
            "0\n",
            "2\n",
            "4\n",
            "6\n",
            "8\n"
          ]
        }
      ],
      "source": [
        "#20th answer\n",
        "for i in range(10):\n",
        "    if i%2==0:\n",
        "        print (i)"
      ]
    },
    {
      "cell_type": "code",
      "execution_count": null,
      "id": "748217e3-ac21-4c16-b687-13bc54e15e0a",
      "metadata": {
        "id": "748217e3-ac21-4c16-b687-13bc54e15e0a",
        "outputId": "96243311-e535-4bda-b66f-db8d82b2ba69"
      },
      "outputs": [
        {
          "name": "stdout",
          "output_type": "stream",
          "text": [
            "1\n",
            "3\n",
            "5\n",
            "7\n",
            "9\n",
            "11\n",
            "13\n"
          ]
        }
      ],
      "source": [
        "#21st answer\n",
        "for i in range(15):\n",
        "    if i%2==1:\n",
        "        print(i)"
      ]
    },
    {
      "cell_type": "code",
      "execution_count": null,
      "id": "b6ef5f9c-34ce-4c47-b9fe-815fbeb7167f",
      "metadata": {
        "id": "b6ef5f9c-34ce-4c47-b9fe-815fbeb7167f",
        "outputId": "ccadb58b-232b-4ccd-bdbd-9740569ff8d4"
      },
      "outputs": [
        {
          "name": "stdout",
          "output_type": "stream",
          "text": [
            "count of even is  8\n",
            "count of odd is  9\n"
          ]
        }
      ],
      "source": [
        "#22nd answer\n",
        "x=[1,2,3,4,5,6,7,8,9,12,23,32,35,65,54,46,45]\n",
        "even=0\n",
        "odd=0\n",
        "for i in x:\n",
        "    if i%2==0:\n",
        "        even= even+1\n",
        "    else:\n",
        "        odd= odd+1\n",
        "print(\"count of even is \",even)\n",
        "print(\"count of odd is \",odd)"
      ]
    },
    {
      "cell_type": "code",
      "execution_count": null,
      "id": "904f3fef-da8b-4271-be18-80aa49ca341b",
      "metadata": {
        "id": "904f3fef-da8b-4271-be18-80aa49ca341b",
        "outputId": "3234e861-29a2-4c20-d9b3-4962ad78ef95"
      },
      "outputs": [
        {
          "name": "stdout",
          "output_type": "stream",
          "text": [
            "433\n",
            "3432\n",
            "3432\n",
            "43\n"
          ]
        }
      ],
      "source": [
        "#23rd answer\n",
        "x=[-1,-2,-3,-324,433,3432,3432,43]\n",
        "for i in x:\n",
        "    if i>0:\n",
        "        print(i)"
      ]
    },
    {
      "cell_type": "code",
      "execution_count": null,
      "id": "bf33708a-3865-43a0-b5ae-a372f3843154",
      "metadata": {
        "id": "bf33708a-3865-43a0-b5ae-a372f3843154",
        "outputId": "dbafa4d4-e17b-4690-ca50-5233ae8df25d"
      },
      "outputs": [
        {
          "name": "stdout",
          "output_type": "stream",
          "text": [
            "-1\n",
            "-2\n",
            "-3\n",
            "-324\n"
          ]
        }
      ],
      "source": [
        "#24th answer\n",
        "x=[-1,-2,-3,-324,433,3432,3432,43]\n",
        "for i in x:\n",
        "    if i<0:\n",
        "        print(i)"
      ]
    },
    {
      "cell_type": "code",
      "execution_count": null,
      "id": "18946004-3f39-4845-9831-7971ed19b657",
      "metadata": {
        "id": "18946004-3f39-4845-9831-7971ed19b657",
        "outputId": "a6ffac33-b959-4fd1-e953-53b2bf3c9164"
      },
      "outputs": [
        {
          "name": "stdout",
          "output_type": "stream",
          "text": [
            "-10\n",
            "-9\n",
            "-8\n",
            "-7\n",
            "-6\n",
            "-5\n",
            "-4\n",
            "-3\n",
            "-2\n",
            "-1\n"
          ]
        }
      ],
      "source": [
        "#25th answer\n",
        "for i in range(-10,10):\n",
        "    if i<0:\n",
        "        print(i)"
      ]
    },
    {
      "cell_type": "code",
      "execution_count": null,
      "id": "f9da738e-a08b-43ff-99b7-50eba402354a",
      "metadata": {
        "id": "f9da738e-a08b-43ff-99b7-50eba402354a",
        "outputId": "b2de8edc-a234-4688-cd7e-90d458befa3d"
      },
      "outputs": [
        {
          "name": "stdout",
          "output_type": "stream",
          "text": [
            "1\n",
            "2\n",
            "3\n",
            "4\n",
            "5\n",
            "6\n",
            "7\n",
            "8\n",
            "9\n"
          ]
        }
      ],
      "source": [
        "#26th answer\n",
        "for i in range(-10,10):\n",
        "    if i>0:\n",
        "        print(i)"
      ]
    },
    {
      "cell_type": "code",
      "execution_count": null,
      "id": "b22f3d7e-2765-4a4c-be7c-3dcd50617165",
      "metadata": {
        "id": "b22f3d7e-2765-4a4c-be7c-3dcd50617165",
        "outputId": "04466914-3457-4a74-bffc-db312583bc12"
      },
      "outputs": [
        {
          "name": "stdout",
          "output_type": "stream",
          "text": [
            "count of postive number is 5\n",
            "count of negative number is 4\n"
          ]
        }
      ],
      "source": [
        "#27th answer\n",
        "x=[-1,-2,-3,-324,64,433,3432,3432,43]\n",
        "positive=0\n",
        "negative=0\n",
        "for i in x:\n",
        "    if i>0:\n",
        "        positive= positive+1\n",
        "    else:\n",
        "        negative= negative+1\n",
        "print(\"count of postive number is\", positive)\n",
        "print(\"count of negative number is\", negative)"
      ]
    },
    {
      "cell_type": "code",
      "execution_count": null,
      "id": "3a92da9b-9754-4e4e-ad7e-b4d39603d2a0",
      "metadata": {
        "id": "3a92da9b-9754-4e4e-ad7e-b4d39603d2a0",
        "outputId": "fa80754b-2582-4bd6-87e8-ee1a909f2a69"
      },
      "outputs": [
        {
          "name": "stdout",
          "output_type": "stream",
          "text": [
            "['muskan', 'khushi', 'sonali']\n"
          ]
        }
      ],
      "source": [
        "#28th answer\n",
        "List=['muskan', 'khushi', 'Sunil', 'Nikhil', 'sonali']\n",
        "x=['Sunil','Nikhil']\n",
        "for i in x:\n",
        "    if i!=List:\n",
        "      List.remove(i)\n",
        "print(List)"
      ]
    },
    {
      "cell_type": "code",
      "execution_count": null,
      "id": "cd037078-782e-4430-a7b0-2b28dea9ad65",
      "metadata": {
        "id": "cd037078-782e-4430-a7b0-2b28dea9ad65",
        "outputId": "9346a627-9a32-4fbb-bfec-0298d62fa63e"
      },
      "outputs": [
        {
          "name": "stdout",
          "output_type": "stream",
          "text": [
            "[('muskan', 2, 3, 32, 232), ('khushi', 434, 324324, 23, 43), ('Sunil', 2334, 'nihal'), ('Nikhil', 'sonali'), 343]\n"
          ]
        }
      ],
      "source": [
        "#29th answer\n",
        "List=[('muskan',2,3,32,232),(), ('khushi',434,324324,23,43),(),('Sunil',2334,'nihal'), (),('Nikhil', 'sonali'),(),(343)]\n",
        "for i in List:\n",
        "    if (i==()):\n",
        "      List.remove(i)\n",
        "print(List)"
      ]
    },
    {
      "cell_type": "code",
      "execution_count": null,
      "id": "8f36442c-74be-4019-b4d7-47f6c96296bf",
      "metadata": {
        "id": "8f36442c-74be-4019-b4d7-47f6c96296bf",
        "outputId": "43aa9469-4dc1-4e59-be2e-e261a61d6ee9"
      },
      "outputs": [
        {
          "name": "stdout",
          "output_type": "stream",
          "text": [
            "[1, 2, 5, 9]\n"
          ]
        }
      ],
      "source": [
        "#30 answer\n",
        "x= [1, 2, 1, 2, 3, 4, 5, 1, 1, 2, 5, 6, 7, 8, 9, 9]\n",
        "y= []\n",
        "z = []\n",
        "for i in x:\n",
        "    if i not in y:\n",
        "        y.append(i)\n",
        "    elif i not in z:     #kyuki list same elemts ko ek hi manta hai\n",
        "        z.append(i)\n",
        "print(z)"
      ]
    },
    {
      "cell_type": "code",
      "execution_count": null,
      "id": "315d6d9b-1ad1-4b81-8a3b-1d4fd9516ee4",
      "metadata": {
        "id": "315d6d9b-1ad1-4b81-8a3b-1d4fd9516ee4"
      },
      "outputs": [],
      "source": []
    }
  ],
  "metadata": {
    "kernelspec": {
      "display_name": "Python 3 (ipykernel)",
      "language": "python",
      "name": "python3"
    },
    "language_info": {
      "codemirror_mode": {
        "name": "ipython",
        "version": 3
      },
      "file_extension": ".py",
      "mimetype": "text/x-python",
      "name": "python",
      "nbconvert_exporter": "python",
      "pygments_lexer": "ipython3",
      "version": "3.12.4"
    },
    "colab": {
      "provenance": []
    }
  },
  "nbformat": 4,
  "nbformat_minor": 5
}