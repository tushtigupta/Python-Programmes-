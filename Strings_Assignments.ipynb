{
  "nbformat": 4,
  "nbformat_minor": 0,
  "metadata": {
    "colab": {
      "provenance": []
    },
    "kernelspec": {
      "name": "python3",
      "display_name": "Python 3"
    },
    "language_info": {
      "name": "python"
    }
  },
  "cells": [
    {
      "cell_type": "markdown",
      "source": [
        "# **Strings Assignment**\n",
        " **- By Tushti Gupta SODS**"
      ],
      "metadata": {
        "id": "vQInAJun6Tv0"
      }
    },
    {
      "cell_type": "markdown",
      "source": [
        "*Program to check whether the string is Symmetrical or Palindrome*"
      ],
      "metadata": {
        "id": "QELs_6TL738x"
      }
    },
    {
      "cell_type": "code",
      "source": [
        "def is_symmetrical(s):\n",
        "    # Find the midpoint of the string\n",
        "    length = len(s)\n",
        "    mid = length // 2\n",
        "\n",
        "    # Compare the first half and the second half\n",
        "    if length % 2 == 0:\n",
        "        # For even length, compare directly\n",
        "        return s[:mid] == s[mid:]\n",
        "    else:\n",
        "        # For odd length, ignore the middle character\n",
        "        return s[:mid] == s[mid + 1:]\n",
        "\n",
        "def is_palindrome(s):\n",
        "    # Check if the string reads the same forwards and backwards\n",
        "    return s == s[::-1]\n",
        "\n",
        "# Example usage\n",
        "string = \"abba\"\n",
        "print(\"Is symmetrical?\", is_symmetrical(string))\n",
        "print(\"Is palindrome?\", is_palindrome(string))"
      ],
      "metadata": {
        "colab": {
          "base_uri": "https://localhost:8080/"
        },
        "id": "nyPfmstA6TYG",
        "outputId": "d0cabce2-a4af-4568-cd18-5771229f1584"
      },
      "execution_count": null,
      "outputs": [
        {
          "output_type": "stream",
          "name": "stdout",
          "text": [
            "Is symmetrical? False\n",
            "Is palindrome? True\n"
          ]
        }
      ]
    },
    {
      "cell_type": "markdown",
      "source": [
        "*Reverse words in a given String in Python*"
      ],
      "metadata": {
        "id": "or8EUWB38M8m"
      }
    },
    {
      "cell_type": "code",
      "source": [
        "def reverse_words(sentence):\n",
        "    # Step 1: Split the string into words\n",
        "    words = sentence.split()\n",
        "\n",
        "    # Step 2: Reverse the list of words\n",
        "    reversed_words = words[::-1]\n",
        "\n",
        "    # Step 3: Join the reversed words back into a string\n",
        "    reversed_sentence = ' '.join(reversed_words)\n",
        "\n",
        "    return reversed_sentence\n",
        "\n",
        "# Example usage\n",
        "sentence = \"Hello world this is Python\"\n",
        "print(reverse_words(sentence))"
      ],
      "metadata": {
        "colab": {
          "base_uri": "https://localhost:8080/"
        },
        "id": "UU_gdac06TUy",
        "outputId": "c0d75e89-837e-4a12-8403-99c4b3018381"
      },
      "execution_count": null,
      "outputs": [
        {
          "output_type": "stream",
          "name": "stdout",
          "text": [
            "Python is this world Hello\n"
          ]
        }
      ]
    },
    {
      "cell_type": "markdown",
      "source": [
        "*Find length of a string in python (4 ways)*"
      ],
      "metadata": {
        "id": "mJye-q0V8znP"
      }
    },
    {
      "cell_type": "code",
      "source": [
        "#1 Using len() function\n",
        "string = \"Hello, World!\"\n",
        "length = len(string)\n",
        "print(\"Length using len():\",length)"
      ],
      "metadata": {
        "colab": {
          "base_uri": "https://localhost:8080/"
        },
        "id": "d9x3LZnm6TSH",
        "outputId": "d71ff36e-be96-4ec5-e965-b80733ecee9c"
      },
      "execution_count": null,
      "outputs": [
        {
          "output_type": "stream",
          "name": "stdout",
          "text": [
            "Length using len(): 13\n"
          ]
        }
      ]
    },
    {
      "cell_type": "code",
      "source": [
        "#2 Using a for loop\n",
        "string = \"Hello, World!\"\n",
        "length = 0\n",
        "for char in string:\n",
        "    length += 1\n",
        "print(\"Length using for loop:\",length)"
      ],
      "metadata": {
        "colab": {
          "base_uri": "https://localhost:8080/"
        },
        "id": "zDBVZj446TPZ",
        "outputId": "18216ef4-faf1-42e7-fa94-a8236a8412e7"
      },
      "execution_count": null,
      "outputs": [
        {
          "output_type": "stream",
          "name": "stdout",
          "text": [
            "Length using for loop: 13\n"
          ]
        }
      ]
    },
    {
      "cell_type": "code",
      "source": [
        "#3 Using Join And Count\n",
        "string = \"Hello, World!\"\n",
        "length = ''.join(string).count('')\n",
        "print(\"Length using join and count:\",length-1)"
      ],
      "metadata": {
        "colab": {
          "base_uri": "https://localhost:8080/"
        },
        "id": "Pm6FcMeJ6TNH",
        "outputId": "0cf39023-e1ab-4560-ed8d-053011bfd25a"
      },
      "execution_count": null,
      "outputs": [
        {
          "output_type": "stream",
          "name": "stdout",
          "text": [
            "Length using join and count: 13\n"
          ]
        }
      ]
    },
    {
      "cell_type": "markdown",
      "source": [
        "*Avoid Spaces in string length*"
      ],
      "metadata": {
        "id": "t9xwW-69-RE-"
      }
    },
    {
      "cell_type": "code",
      "source": [
        "string = \"Hello, World!\"\n",
        "length_without_spaces = len(string.replace(\" \", \"\"))\n",
        "print(\"Length without spaces using len() and replace():\", length_without_spaces)"
      ],
      "metadata": {
        "colab": {
          "base_uri": "https://localhost:8080/"
        },
        "id": "cewBLbq66TKl",
        "outputId": "65100e27-fea6-4328-b6e1-202cd5e3f924"
      },
      "execution_count": null,
      "outputs": [
        {
          "output_type": "stream",
          "name": "stdout",
          "text": [
            "Length without spaces using len() and replace(): 12\n"
          ]
        }
      ]
    },
    {
      "cell_type": "markdown",
      "source": [
        "*Program to print even length words in a string*"
      ],
      "metadata": {
        "id": "g8Hq5G3S-tZG"
      }
    },
    {
      "cell_type": "code",
      "source": [
        "def print_even_length_words(sentence):\n",
        "    # Step 1: Split the sentence into words\n",
        "    words = sentence.split()\n",
        "\n",
        "    # Step 2: Iterate over each word\n",
        "    for word in words:\n",
        "        # Step 3: Check if the word's length is even\n",
        "        if len(word) % 2 == 0:\n",
        "            print(word)\n",
        "\n",
        "# Example usage\n",
        "sentence = \"This is a simple Python example\"\n",
        "print_even_length_words(sentence)"
      ],
      "metadata": {
        "colab": {
          "base_uri": "https://localhost:8080/"
        },
        "id": "sEerPvjK6THr",
        "outputId": "f72f4e62-2293-479d-c55a-5cf0fa3478a9"
      },
      "execution_count": null,
      "outputs": [
        {
          "output_type": "stream",
          "name": "stdout",
          "text": [
            "This\n",
            "is\n",
            "simple\n",
            "Python\n"
          ]
        }
      ]
    },
    {
      "cell_type": "markdown",
      "source": [
        "*Uppercase Half String*"
      ],
      "metadata": {
        "id": "VBAHFCCh_bTm"
      }
    },
    {
      "cell_type": "code",
      "source": [
        "def uppercase_half_string(s):\n",
        "    # Step 1: Find the midpoint of the string\n",
        "    midpoint = len(s) // 2\n",
        "\n",
        "    # Step 2: Split the string into two halves\n",
        "    first_half = s[:midpoint]\n",
        "    second_half = s[midpoint:]\n",
        "\n",
        "    # Step 3: Convert the first half to uppercase\n",
        "    first_half_upper = first_half.upper()\n",
        "\n",
        "    # Step 4: Concatenate the uppercase first half with the original second half\n",
        "    result = first_half_upper + second_half\n",
        "    return result\n",
        "\n",
        "# Example usage\n",
        "string = \"hello world\"\n",
        "print(\"Original string:\", string)\n",
        "print(\"Half uppercase string:\", uppercase_half_string(string))"
      ],
      "metadata": {
        "colab": {
          "base_uri": "https://localhost:8080/"
        },
        "id": "sI11Nxmc6TEi",
        "outputId": "61b76f30-538c-4805-e3b8-355134b33e47"
      },
      "execution_count": null,
      "outputs": [
        {
          "output_type": "stream",
          "name": "stdout",
          "text": [
            "Original string: hello world\n",
            "Half uppercase string: HELLO world\n"
          ]
        }
      ]
    },
    {
      "cell_type": "markdown",
      "source": [
        "*Program to capitalize the first and last character of each word in a string*"
      ],
      "metadata": {
        "id": "ZOyqzf7wAEJq"
      }
    },
    {
      "cell_type": "code",
      "source": [
        "def capitalize_first_last(sentence):\n",
        "    # Split the sentence into words\n",
        "    words = sentence.split()\n",
        "\n",
        "    # Process each word\n",
        "    capitalized_words = []\n",
        "    for word in words:\n",
        "        if len(word) > 1:\n",
        "            # Capitalize first and last character if word has more than one character\n",
        "            new_word = word[0].upper() + word[1:-1] + word[-1].upper()\n",
        "        else:\n",
        "            # Capitalize the single character if the word is only one character long\n",
        "            new_word = word.upper()\n",
        "\n",
        "        # Add the modified word to the list\n",
        "        capitalized_words.append(new_word)\n",
        "\n",
        "    # Join the modified words back into a string\n",
        "    result = ' '.join(capitalized_words)\n",
        "    return result\n",
        "\n",
        "# Example usage\n",
        "sentence = \"hello world from python\"\n",
        "print(\"Original string:\", sentence)\n",
        "print(\"Modified string:\", capitalize_first_last(sentence))"
      ],
      "metadata": {
        "colab": {
          "base_uri": "https://localhost:8080/"
        },
        "id": "7cg1xsLh6TB-",
        "outputId": "3250b6a7-22cc-47cf-ba5f-e8ff02539e9d"
      },
      "execution_count": null,
      "outputs": [
        {
          "output_type": "stream",
          "name": "stdout",
          "text": [
            "Original string: hello world from python\n",
            "Modified string: HellO WorlD FroM PythoN\n"
          ]
        }
      ]
    },
    {
      "cell_type": "markdown",
      "source": [
        "*Program to check if a string has at least one letter and one number*"
      ],
      "metadata": {
        "id": "QsBxzE_BAySU"
      }
    },
    {
      "cell_type": "code",
      "source": [
        "def has_letter_and_number(s):\n",
        "    has_letter = False\n",
        "    has_digit = False\n",
        "\n",
        "    # Check each character in the string\n",
        "    for char in s:\n",
        "        if char.isalpha():\n",
        "            has_letter = True\n",
        "        elif char.isdigit():\n",
        "            has_digit = True\n",
        "\n",
        "        # If both are True, no need to check further\n",
        "        if has_letter and has_digit:\n",
        "            return True\n",
        "\n",
        "    return False\n",
        "\n",
        "# Example usage\n",
        "string = \"Hello123\"\n",
        "print(\"Has at least one letter and one number:\", has_letter_and_number(string))"
      ],
      "metadata": {
        "colab": {
          "base_uri": "https://localhost:8080/"
        },
        "id": "skJyUhNS6S_R",
        "outputId": "11638530-c5da-4301-c31c-eab23734e088"
      },
      "execution_count": null,
      "outputs": [
        {
          "output_type": "stream",
          "name": "stdout",
          "text": [
            "Has at least one letter and one number: True\n"
          ]
        }
      ]
    },
    {
      "cell_type": "markdown",
      "source": [
        "*Program to accept the strings which contains all vowels*"
      ],
      "metadata": {
        "id": "IkHlKrm6Bg2r"
      }
    },
    {
      "cell_type": "code",
      "source": [
        "def contains_all_vowels(s):\n",
        "    # Step 1: Define the set of all vowels\n",
        "    vowels = {'a', 'e', 'i', 'o', 'u'}\n",
        "\n",
        "    # Step 2: Convert string to lowercase and find all unique vowels in it\n",
        "    found_vowels = {char for char in s.lower() if char in vowels}\n",
        "\n",
        "    # Step 3: Check if all vowels are present in the found vowels\n",
        "    return vowels.issubset(found_vowels)\n",
        "\n",
        "# Example usage\n",
        "string = \"Education is important\"\n",
        "print(\"Contains all vowels:\", contains_all_vowels(string))"
      ],
      "metadata": {
        "colab": {
          "base_uri": "https://localhost:8080/"
        },
        "id": "GKbyiYkK6S9f",
        "outputId": "15eaddf5-bc8f-4f4c-846f-574557ea13c1"
      },
      "execution_count": null,
      "outputs": [
        {
          "output_type": "stream",
          "name": "stdout",
          "text": [
            "Contains all vowels: True\n"
          ]
        }
      ]
    },
    {
      "cell_type": "markdown",
      "source": [
        "*Count the Number of matching characters in a pair of string*"
      ],
      "metadata": {
        "id": "gSYOmPt6DOYw"
      }
    },
    {
      "cell_type": "code",
      "source": [
        "def count_matching_characters(str1, str2):\n",
        "    # Step 1: Convert both strings to sets of unique characters\n",
        "    set1 = set(str1)\n",
        "    set2 = set(str2)\n",
        "\n",
        "    # Step 2: Find the intersection of both sets\n",
        "    common_characters = set1.intersection(set2)\n",
        "\n",
        "    # Step 3: Return the count of common characters\n",
        "    return len(common_characters)\n",
        "\n",
        "# Example usage\n",
        "string1 = \"hello\"\n",
        "string2 = \"world\"\n",
        "print(\"Number of matching characters:\", count_matching_characters(string1,string2))"
      ],
      "metadata": {
        "colab": {
          "base_uri": "https://localhost:8080/"
        },
        "id": "-VY_pKQv6S7s",
        "outputId": "51bedd80-599c-4104-ce6a-2c88894cf47b"
      },
      "execution_count": null,
      "outputs": [
        {
          "output_type": "stream",
          "name": "stdout",
          "text": [
            "Number of matching characters: 2\n"
          ]
        }
      ]
    },
    {
      "cell_type": "markdown",
      "source": [
        "*Program to count number of vowels using sets in given string*"
      ],
      "metadata": {
        "id": "-Tl_VEWuD7bW"
      }
    },
    {
      "cell_type": "code",
      "source": [
        "def count_vowels(s):\n",
        "    # Step 1: Define the set of vowels\n",
        "    vowels = {'a', 'e', 'i', 'o', 'u'}\n",
        "\n",
        "    # Step 2: Initialize a counter for vowels\n",
        "    vowel_count = 0\n",
        "\n",
        "    # Step 3: Loop through each character in the string\n",
        "    for char in s.lower():  # Convert string to lowercase to handle both uppercase and lowercase vowels\n",
        "        if char in vowels:\n",
        "            vowel_count += 1\n",
        "\n",
        "    # Step 4: Return the total count of vowels\n",
        "    return vowel_count\n",
        "\n",
        "# Example usage\n",
        "string = \"Hello World!\"\n",
        "print(\"Number of vowels:\", count_vowels(string))"
      ],
      "metadata": {
        "colab": {
          "base_uri": "https://localhost:8080/"
        },
        "id": "8zaR4F3f6S5P",
        "outputId": "a053a193-c20e-435b-926b-bc96c8ba3242"
      },
      "execution_count": null,
      "outputs": [
        {
          "output_type": "stream",
          "name": "stdout",
          "text": [
            "Number of vowels: 3\n"
          ]
        }
      ]
    },
    {
      "cell_type": "markdown",
      "source": [
        "*Program to remove all duplicates from a given string*"
      ],
      "metadata": {
        "id": "LWhtiMLkEqhC"
      }
    },
    {
      "cell_type": "code",
      "source": [
        "def remove_duplicates(s):\n",
        "    seen = set()  # Step 1: Initialize an empty set to track seen characters\n",
        "    result = []  # Step 2: Initialize an empty list to store the result\n",
        "\n",
        "    # Step 3: Loop through each character in the string\n",
        "    for char in s:\n",
        "        if char not in seen:  # If the character is not in the seen set\n",
        "            result.append(char)  # Add it to the result list\n",
        "            seen.add(char)  # Add the character to the seen set\n",
        "\n",
        "    # Step 4: Return the result as a string\n",
        "    return ''.join(result)\n",
        "\n",
        "# Example usage\n",
        "string = \"programming\"\n",
        "print(\"String with duplicates removed:\", remove_duplicates(string))"
      ],
      "metadata": {
        "colab": {
          "base_uri": "https://localhost:8080/"
        },
        "id": "Ql5OauuU6S0v",
        "outputId": "e8974a8b-cd6b-4003-aa36-f3efd66c565f"
      },
      "execution_count": null,
      "outputs": [
        {
          "output_type": "stream",
          "name": "stdout",
          "text": [
            "String with duplicates removed: progamin\n"
          ]
        }
      ]
    },
    {
      "cell_type": "markdown",
      "source": [
        "*Least Frequent Character in String*"
      ],
      "metadata": {
        "id": "MZwZus1EFPeW"
      }
    },
    {
      "cell_type": "code",
      "source": [
        "from collections import Counter\n",
        "\n",
        "def find_least_frequent_characters(s):\n",
        "    # Step 1: Count the frequency of each character\n",
        "    frequency = Counter(s)\n",
        "\n",
        "    # Step 2: Find the minimum frequency value\n",
        "    min_freq = min(frequency.values())\n",
        "\n",
        "    # Step 3: Find the characters with the minimum frequency\n",
        "    least_frequent_chars = [char for char, count in frequency.items() if count == min_freq]\n",
        "\n",
        "    # Return the least frequent characters\n",
        "    return least_frequent_chars\n",
        "\n",
        "# Example usage\n",
        "string = \"programming\"\n",
        "print(\"Least frequent characters:\", find_least_frequent_characters(string))"
      ],
      "metadata": {
        "colab": {
          "base_uri": "https://localhost:8080/"
        },
        "id": "OS_rMzp_6SxU",
        "outputId": "ea82b9d7-3da0-4d9c-97eb-4930a91e934b"
      },
      "execution_count": null,
      "outputs": [
        {
          "output_type": "stream",
          "name": "stdout",
          "text": [
            "Least frequent characters: ['p', 'o', 'a', 'i', 'n']\n"
          ]
        }
      ]
    },
    {
      "cell_type": "markdown",
      "source": [
        "*Maximum frequency character in String*"
      ],
      "metadata": {
        "id": "Z0DvnB4sFt_T"
      }
    },
    {
      "cell_type": "code",
      "source": [
        "from collections import Counter\n",
        "\n",
        "def find_most_frequent_characters(s):\n",
        "    # Step 1: Count the frequency of each character\n",
        "    frequency = Counter(s)\n",
        "\n",
        "    # Step 2: Find the maximum frequency value\n",
        "    max_freq = max(frequency.values())\n",
        "\n",
        "    # Step 3: Find the characters with the maximum frequency\n",
        "    most_frequent_chars = [char for char, count in frequency.items() if count == max_freq]\n",
        "\n",
        "    # Return the most frequent characters\n",
        "    return most_frequent_chars\n",
        "\n",
        "# Example usage\n",
        "string = \"programming\"\n",
        "print(\"Most frequent characters:\", find_most_frequent_characters(string))"
      ],
      "metadata": {
        "colab": {
          "base_uri": "https://localhost:8080/"
        },
        "id": "lkf5ooAs6SuP",
        "outputId": "6ce24a79-2c0a-4ae1-f33c-58481641a7f9"
      },
      "execution_count": null,
      "outputs": [
        {
          "output_type": "stream",
          "name": "stdout",
          "text": [
            "Most frequent characters: ['r', 'g', 'm']\n"
          ]
        }
      ]
    },
    {
      "cell_type": "markdown",
      "source": [
        "*Frequency of numbers in String*"
      ],
      "metadata": {
        "id": "_IYIv5AeGAtp"
      }
    },
    {
      "cell_type": "code",
      "source": [
        "from collections import Counter\n",
        "\n",
        "def find_digit_frequency(s):\n",
        "    # Step 1: Filter out digits from the string\n",
        "    digits = [char for char in s if char.isdigit()]\n",
        "\n",
        "    # Step 2: Count the frequency of each digit using Counter\n",
        "    frequency = Counter(digits)\n",
        "\n",
        "    # Step 3: Return the frequency count\n",
        "    return frequency\n",
        "\n",
        "# Example usage\n",
        "string = \"The year is 2024 and the number 100 is important.\"\n",
        "print(\"Digit frequencies:\", find_digit_frequency(string))"
      ],
      "metadata": {
        "colab": {
          "base_uri": "https://localhost:8080/"
        },
        "id": "904yX2xf6Srg",
        "outputId": "13ee41c8-c3f9-498f-9c4c-90889a00a949"
      },
      "execution_count": null,
      "outputs": [
        {
          "output_type": "stream",
          "name": "stdout",
          "text": [
            "Digit frequencies: Counter({'0': 3, '2': 2, '4': 1, '1': 1})\n"
          ]
        }
      ]
    },
    {
      "cell_type": "markdown",
      "source": [
        "*Program to split and join a string*"
      ],
      "metadata": {
        "id": "TskrWn6cHPa4"
      }
    },
    {
      "cell_type": "code",
      "source": [
        "# Split()\n",
        "text = \"Python is fun\"\n",
        "result = text.split()\n",
        "print(result)"
      ],
      "metadata": {
        "colab": {
          "base_uri": "https://localhost:8080/"
        },
        "id": "K1xgzL986SpG",
        "outputId": "1e7c6bd0-4cf4-4d46-f0d7-7936100c6638"
      },
      "execution_count": null,
      "outputs": [
        {
          "output_type": "stream",
          "name": "stdout",
          "text": [
            "['Python', 'is', 'fun']\n"
          ]
        }
      ]
    },
    {
      "cell_type": "code",
      "source": [
        "# Join()\n",
        "words = ['Python', 'is', 'fun']\n",
        "result = \" \".join(words)\n",
        "print(result)"
      ],
      "metadata": {
        "colab": {
          "base_uri": "https://localhost:8080/"
        },
        "id": "f0eDAKRT6SnV",
        "outputId": "c1bb95eb-84d2-4335-bde3-ba9d40055a85"
      },
      "execution_count": null,
      "outputs": [
        {
          "output_type": "stream",
          "name": "stdout",
          "text": [
            "Python is fun\n"
          ]
        }
      ]
    },
    {
      "cell_type": "markdown",
      "source": [
        "*Check if a given string is binary string or not*"
      ],
      "metadata": {
        "id": "wFwqZlJ5IPnd"
      }
    },
    {
      "cell_type": "code",
      "source": [
        "def is_binary_string(s):\n",
        "    return all(c in '01' for c in s)\n",
        "\n",
        "# Test cases\n",
        "print(is_binary_string(\"101010\"))\n",
        "print(is_binary_string(\"123101\"))"
      ],
      "metadata": {
        "colab": {
          "base_uri": "https://localhost:8080/"
        },
        "id": "4f2x1qa66Sk1",
        "outputId": "288a512f-70ee-4035-9d49-730d807d126d"
      },
      "execution_count": null,
      "outputs": [
        {
          "output_type": "stream",
          "name": "stdout",
          "text": [
            "True\n",
            "False\n"
          ]
        }
      ]
    },
    {
      "cell_type": "markdown",
      "source": [
        "*Program to find uncommon words from two Strings*"
      ],
      "metadata": {
        "id": "pFRyULzzKmRo"
      }
    },
    {
      "cell_type": "code",
      "source": [
        "# Input strings\n",
        "string1 = \"apple banana cherry\"\n",
        "string2 = \"banana cherry date\"\n",
        "\n",
        "# Split strings into words\n",
        "words1 = set(string1.split())\n",
        "words2 = set(string2.split())\n",
        "\n",
        "# Find uncommon words using set difference\n",
        "uncommon_words = words1.symmetric_difference(words2)\n",
        "\n",
        "print(uncommon_words)"
      ],
      "metadata": {
        "colab": {
          "base_uri": "https://localhost:8080/"
        },
        "id": "RZrEE_vf6Sf_",
        "outputId": "ca69d17c-3f6c-4980-fe9f-5ca0282f07fc"
      },
      "execution_count": null,
      "outputs": [
        {
          "output_type": "stream",
          "name": "stdout",
          "text": [
            "{'date', 'apple'}\n"
          ]
        }
      ]
    },
    {
      "cell_type": "markdown",
      "source": [
        "*Swap commas and dots in a String*"
      ],
      "metadata": {
        "id": "ouhY90gSLrEu"
      }
    },
    {
      "cell_type": "code",
      "source": [
        "def swap_commas_and_dots(text):\n",
        "    # Step 1: Replace commas with a temporary placeholder (e.g., '#')\n",
        "    text = text.replace(',', '#')\n",
        "\n",
        "    # Step 2: Replace dots with commas\n",
        "    text = text.replace('.', ',')\n",
        "\n",
        "    # Step 3: Replace the temporary placeholder with dots\n",
        "    text = text.replace('#', '.')\n",
        "\n",
        "    return text\n",
        "\n",
        "# Test the function\n",
        "input_string = \"Hello, world. How are you, today?\"\n",
        "result = swap_commas_and_dots(input_string)\n",
        "\n",
        "print(\"Original String: \", input_string)\n",
        "print(\"Modified String: \",result)"
      ],
      "metadata": {
        "colab": {
          "base_uri": "https://localhost:8080/"
        },
        "id": "vqAM6XEP6Scu",
        "outputId": "d96dac11-5452-4d90-8e53-834b0201fb23"
      },
      "execution_count": null,
      "outputs": [
        {
          "output_type": "stream",
          "name": "stdout",
          "text": [
            "Original String:  Hello, world. How are you, today?\n",
            "Modified String:  Hello. world, How are you. today?\n"
          ]
        }
      ]
    },
    {
      "cell_type": "markdown",
      "source": [
        "*Word location in String*"
      ],
      "metadata": {
        "id": "esLfozc6MOWJ"
      }
    },
    {
      "cell_type": "code",
      "source": [
        "def find_word_location(s, word):\n",
        "    # Using the find() method to get the index of the word\n",
        "    index = s.find(word)\n",
        "    return index\n",
        "\n",
        "# Example usage\n",
        "string = \"The quick brown fox jumps over the lazy dog.\"\n",
        "word = \"fox\"\n",
        "location = find_word_location(string, word)\n",
        "\n",
        "if location != -1:\n",
        "    print(f\"The word '{word}' is found at index {location}.\")\n",
        "else:\n",
        "    print(f\"The word '{word}' is not found.\")"
      ],
      "metadata": {
        "colab": {
          "base_uri": "https://localhost:8080/"
        },
        "id": "ibqgNjCi6SZV",
        "outputId": "b9e541b6-f3a8-42f1-adfc-7ae386b79103"
      },
      "execution_count": null,
      "outputs": [
        {
          "output_type": "stream",
          "name": "stdout",
          "text": [
            "The word 'fox' is found at index 16.\n"
          ]
        }
      ]
    },
    {
      "cell_type": "markdown",
      "source": [
        "*String slicing in Python to rotate a string*"
      ],
      "metadata": {
        "id": "4ce_FSxQOyGn"
      }
    },
    {
      "cell_type": "code",
      "source": [
        "def rotate_right(s, n):\n",
        "    # Ensure n is within the range of the string length\n",
        "    n = n % len(s)\n",
        "\n",
        "    # Rotate string to the right by n positions\n",
        "    return s[-n:] + s[:-n]\n",
        "\n",
        "# Example usage\n",
        "string = \"abcdef\"\n",
        "n = 2\n",
        "rotated_string = rotate_right(string, n)\n",
        "print(f\"Rotated string (right by {n}):\",rotated_string)"
      ],
      "metadata": {
        "colab": {
          "base_uri": "https://localhost:8080/"
        },
        "id": "zTlxKtfW6SWp",
        "outputId": "52ac10d2-9a22-43ed-c329-33f135841cfd"
      },
      "execution_count": null,
      "outputs": [
        {
          "output_type": "stream",
          "name": "stdout",
          "text": [
            "Rotated string (right by 2): efabcd\n"
          ]
        }
      ]
    },
    {
      "cell_type": "markdown",
      "source": [
        "*Program to find minimum number of rotations to obtain actual string*"
      ],
      "metadata": {
        "id": "bS-G9d3MO9em"
      }
    },
    {
      "cell_type": "code",
      "source": [
        "def min_rotations_to_original(s):\n",
        "    # Concatenate the string with itself\n",
        "    doubled_string = s + s\n",
        "\n",
        "    # Find the original string as a substring within the concatenated string\n",
        "    index = doubled_string.find(s)\n",
        "\n",
        "    return index\n",
        "\n",
        "# Example usage\n",
        "string = \"abcdef\"\n",
        "rotated_string = \"defabc\"\n",
        "rotations = min_rotations_to_original(rotated_string)\n",
        "print(f\"Minimum number of rotations to obtain the original string '{string}' is:\",rotations)"
      ],
      "metadata": {
        "colab": {
          "base_uri": "https://localhost:8080/"
        },
        "id": "U0dr2eFb6SUP",
        "outputId": "65a4c600-b138-462d-aa9a-493ccdf3cfc3"
      },
      "execution_count": null,
      "outputs": [
        {
          "output_type": "stream",
          "name": "stdout",
          "text": [
            "Minimum number of rotations to obtain the original string 'abcdef' is: 0\n"
          ]
        }
      ]
    },
    {
      "cell_type": "markdown",
      "source": [
        "*Convert Snake case to Pascal case*"
      ],
      "metadata": {
        "id": "2sdFypm6Pxku"
      }
    },
    {
      "cell_type": "code",
      "source": [
        "def snake_to_pascal(s):\n",
        "    # Split the string by underscores\n",
        "    words = s.split('_')\n",
        "\n",
        "    # Capitalize each word and join them together\n",
        "    pascal_case = ''.join(word.capitalize() for word in words)\n",
        "\n",
        "    return pascal_case\n",
        "\n",
        "# Example usage\n",
        "snake_string = \"this_is_snake_case\"\n",
        "pascal_string = snake_to_pascal(snake_string)\n",
        "print(f\"PascalCase string: {pascal_string}\")"
      ],
      "metadata": {
        "colab": {
          "base_uri": "https://localhost:8080/"
        },
        "id": "F_oNR9Wr6SQw",
        "outputId": "57c6a68a-8951-4ff7-e4d6-0506f5a9ef25"
      },
      "execution_count": null,
      "outputs": [
        {
          "output_type": "stream",
          "name": "stdout",
          "text": [
            "PascalCase string: ThisIsSnakeCase\n"
          ]
        }
      ]
    },
    {
      "cell_type": "markdown",
      "source": [
        "*Split String on vowels*"
      ],
      "metadata": {
        "id": "syUExecfQ7-1"
      }
    },
    {
      "cell_type": "code",
      "source": [
        "import re\n",
        "\n",
        "def split_on_vowels(s):\n",
        "    # Split the string wherever there are vowels\n",
        "    result = re.split(r'[aeiouAEIOU]', s)\n",
        "\n",
        "    return result\n",
        "\n",
        "# Example usage\n",
        "string = \"Hello World\"\n",
        "split_string = split_on_vowels(string)\n",
        "print(split_string)"
      ],
      "metadata": {
        "colab": {
          "base_uri": "https://localhost:8080/"
        },
        "id": "_2bKWevT6SOH",
        "outputId": "fee031c2-e4cd-404d-83c3-2ee09228a2b5"
      },
      "execution_count": null,
      "outputs": [
        {
          "output_type": "stream",
          "name": "stdout",
          "text": [
            "['H', 'll', ' W', 'rld']\n"
          ]
        }
      ]
    },
    {
      "cell_type": "markdown",
      "source": [
        "*Mirror Image of String*"
      ],
      "metadata": {
        "id": "YqefKfzbR7w5"
      }
    },
    {
      "cell_type": "code",
      "source": [
        "def mirror_image(s):\n",
        "    # Reverse the string using slicing\n",
        "    return s[::-1]\n",
        "\n",
        "# Example usage\n",
        "string = \"hello\"\n",
        "mirror_string = mirror_image(string)\n",
        "print(f\"Mirror image of '{string}' is: {mirror_string}\")"
      ],
      "metadata": {
        "colab": {
          "base_uri": "https://localhost:8080/"
        },
        "id": "nkz1fEkR6SLb",
        "outputId": "bdcecb4b-5a38-474f-88c5-5242a42a6fb5"
      },
      "execution_count": null,
      "outputs": [
        {
          "output_type": "stream",
          "name": "stdout",
          "text": [
            "Mirror image of 'hello' is: olleh\n"
          ]
        }
      ]
    },
    {
      "cell_type": "markdown",
      "source": [
        "*Replace multiple words with K*"
      ],
      "metadata": {
        "id": "EXfcfg1OSW4W"
      }
    },
    {
      "cell_type": "code",
      "source": [
        "def replace_multiple_words(s, words_to_replace, replacement):\n",
        "    for word in words_to_replace:\n",
        "        s = s.replace(word, replacement)\n",
        "    return s\n",
        "\n",
        "# Example usage\n",
        "string = \"The quick brown fox jumps over the lazy dog\"\n",
        "words = [\"quick\", \"fox\", \"lazy\"]\n",
        "result = replace_multiple_words(string, words, \"k\")\n",
        "print(result)"
      ],
      "metadata": {
        "colab": {
          "base_uri": "https://localhost:8080/"
        },
        "id": "WqwQMM8A6SIX",
        "outputId": "9ff04edb-2a50-48bc-9535-b6996779eb75"
      },
      "execution_count": null,
      "outputs": [
        {
          "output_type": "stream",
          "name": "stdout",
          "text": [
            "The k brown k jumps over the k dog\n"
          ]
        }
      ]
    },
    {
      "cell_type": "markdown",
      "source": [
        "*Ways to remove multiple empty spaces from string List*"
      ],
      "metadata": {
        "id": "Qaqa4TtYTaiL"
      }
    },
    {
      "cell_type": "code",
      "source": [
        "# Using str.replace()\n",
        "def remove_multiple_spaces(s):\n",
        "    # Replace multiple spaces with a single space\n",
        "    return ' '.join(s.split())\n",
        "\n",
        "# Example usage with a string\n",
        "string = \"This   is  a    string   with    extra spaces\"\n",
        "result = remove_multiple_spaces(string)\n",
        "print(result)"
      ],
      "metadata": {
        "colab": {
          "base_uri": "https://localhost:8080/"
        },
        "id": "c9-B0ywi6SFx",
        "outputId": "e35e08da-b568-4bcb-f9b6-2f9a6215ee13"
      },
      "execution_count": null,
      "outputs": [
        {
          "output_type": "stream",
          "name": "stdout",
          "text": [
            "This is a string with extra spaces\n"
          ]
        }
      ]
    },
    {
      "cell_type": "code",
      "source": [
        "# Using re.sub()\n",
        "import re\n",
        "\n",
        "def remove_multiple_spaces_regex(s):\n",
        "    # Replace multiple spaces with a single space\n",
        "    return re.sub(r'\\s+', ' ', s).strip()\n",
        "\n",
        "# Example usage\n",
        "string = \"This   is   a    string   with   extra spaces\"\n",
        "result = remove_multiple_spaces_regex(string)\n",
        "print(result)"
      ],
      "metadata": {
        "colab": {
          "base_uri": "https://localhost:8080/"
        },
        "id": "VNRb5s066SC1",
        "outputId": "a67a26ba-588f-4480-9892-119f5d54bda2"
      },
      "execution_count": null,
      "outputs": [
        {
          "output_type": "stream",
          "name": "stdout",
          "text": [
            "This is a string with extra spaces\n"
          ]
        }
      ]
    },
    {
      "cell_type": "markdown",
      "source": [
        "*Similar characters Strings comparison*"
      ],
      "metadata": {
        "id": "skNUxa6CUZph"
      }
    },
    {
      "cell_type": "code",
      "source": [
        "def are_strings_identical(s1, s2):\n",
        "    return s1 == s2\n",
        "\n",
        "# Example usage\n",
        "string1 = \"hello\"\n",
        "string2 = \"hello\"\n",
        "string3 = \"world\"\n",
        "print(are_strings_identical(string1, string2))\n",
        "print(are_strings_identical(string1, string3))"
      ],
      "metadata": {
        "colab": {
          "base_uri": "https://localhost:8080/"
        },
        "id": "m1ScFgjM6SAE",
        "outputId": "e819a21b-af01-4269-8a2d-d6cb8ff232a9"
      },
      "execution_count": null,
      "outputs": [
        {
          "output_type": "stream",
          "name": "stdout",
          "text": [
            "True\n",
            "False\n"
          ]
        }
      ]
    },
    {
      "cell_type": "markdown",
      "source": [
        "*Remove suffix from string list*"
      ],
      "metadata": {
        "id": "mUgPqF5lUlJj"
      }
    },
    {
      "cell_type": "code",
      "source": [
        "string = \"hello_world\"\n",
        "suffix = \"_world\"\n",
        "result = string.removesuffix(suffix)\n",
        "print(result)"
      ],
      "metadata": {
        "colab": {
          "base_uri": "https://localhost:8080/"
        },
        "id": "SE5fW0zv6R9Y",
        "outputId": "5db78da5-b64b-470f-f813-1d968d026f49"
      },
      "execution_count": null,
      "outputs": [
        {
          "output_type": "stream",
          "name": "stdout",
          "text": [
            "hello\n"
          ]
        }
      ]
    },
    {
      "cell_type": "markdown",
      "source": [
        "*Find all duplicate characters in string*"
      ],
      "metadata": {
        "id": "NMtaQGseVgUu"
      }
    },
    {
      "cell_type": "code",
      "source": [
        "from collections import Counter\n",
        "\n",
        "def find_duplicates(s):\n",
        "    # Create a Counter object to count character frequencies\n",
        "    char_count = Counter(s)\n",
        "\n",
        "    # Find characters that appear more than once\n",
        "    duplicates = [char for char, count in char_count.items() if count > 1]\n",
        "\n",
        "    return duplicates\n",
        "\n",
        "# Example usage:\n",
        "string = \"programming\"\n",
        "print(find_duplicates(string))"
      ],
      "metadata": {
        "colab": {
          "base_uri": "https://localhost:8080/"
        },
        "id": "nfzv_Sr26R6j",
        "outputId": "3311c17f-77e7-4cf3-c5b3-02cee128bec2"
      },
      "execution_count": null,
      "outputs": [
        {
          "output_type": "stream",
          "name": "stdout",
          "text": [
            "['r', 'g', 'm']\n"
          ]
        }
      ]
    },
    {
      "cell_type": "markdown",
      "source": [
        "*Test if string is subset of another*"
      ],
      "metadata": {
        "id": "G9TI1Ci-Vpmj"
      }
    },
    {
      "cell_type": "code",
      "source": [
        "from collections import Counter\n",
        "\n",
        "def is_subset(s1, s2):\n",
        "    # Count the frequency of characters in both strings\n",
        "    count_s1 = Counter(s1)\n",
        "    count_s2 = Counter(s2)\n",
        "\n",
        "    # Check if each character in s1 has a count <= its count in s2\n",
        "    for char in count_s1:\n",
        "        if count_s1[char] > count_s2.get(char, 0):\n",
        "            return False\n",
        "    return True\n",
        "\n",
        "# Example usage:\n",
        "s1 = \"abc\"\n",
        "s2 = \"aabbcc\"\n",
        "print(is_subset(s1, s2))  # Output: True\n",
        "\n",
        "s1 = \"abcd\"\n",
        "s2 = \"aabbcc\"\n",
        "print(is_subset(s1, s2))"
      ],
      "metadata": {
        "colab": {
          "base_uri": "https://localhost:8080/"
        },
        "id": "UCtsjFuy6R3O",
        "outputId": "01ec14c9-2281-45d1-c930-2b01852ffaea"
      },
      "execution_count": null,
      "outputs": [
        {
          "output_type": "stream",
          "name": "stdout",
          "text": [
            "True\n",
            "False\n"
          ]
        }
      ]
    },
    {
      "cell_type": "markdown",
      "source": [
        "*Reverse Sort a String*"
      ],
      "metadata": {
        "id": "Bgg5TF3qWXSe"
      }
    },
    {
      "cell_type": "code",
      "source": [
        "def reverse_and_sort(s):\n",
        "    # Reverse the string\n",
        "    reversed_str = s[::-1]\n",
        "\n",
        "    # Sort the reversed string\n",
        "    sorted_str = ''.join(sorted(reversed_str))\n",
        "\n",
        "    return sorted_str\n",
        "\n",
        "# Example usage:\n",
        "string = \"python\"\n",
        "result = reverse_and_sort(string)\n",
        "print(result)"
      ],
      "metadata": {
        "colab": {
          "base_uri": "https://localhost:8080/"
        },
        "id": "cA8hoSYb6R0s",
        "outputId": "c2858514-1e4e-411f-c06c-fedfd603961f"
      },
      "execution_count": null,
      "outputs": [
        {
          "output_type": "stream",
          "name": "stdout",
          "text": [
            "hnopty\n"
          ]
        }
      ]
    }
  ]
}