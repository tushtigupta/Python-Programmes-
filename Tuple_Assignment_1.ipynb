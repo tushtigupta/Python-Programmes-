{
  "cells": [
    {
      "cell_type": "code",
      "execution_count": null,
      "id": "4f30421f-100e-4bbe-b79a-52e316733341",
      "metadata": {
        "id": "4f30421f-100e-4bbe-b79a-52e316733341"
      },
      "outputs": [],
      "source": [
        "#1st. program to Find the size of a Tuple"
      ]
    },
    {
      "cell_type": "markdown",
      "source": [
        "# **Tuple Assignment**\n",
        " **-By Tushti Gupta SODS**"
      ],
      "metadata": {
        "id": "AaTDsJaHZtdL"
      },
      "id": "AaTDsJaHZtdL"
    },
    {
      "cell_type": "code",
      "execution_count": null,
      "id": "e243149c-6b02-4ea5-b1c3-910143031b0a",
      "metadata": {
        "id": "e243149c-6b02-4ea5-b1c3-910143031b0a",
        "outputId": "a3f8a895-0f82-450c-e9db-e69de245c44d"
      },
      "outputs": [
        {
          "name": "stdout",
          "output_type": "stream",
          "text": [
            "7\n"
          ]
        }
      ],
      "source": [
        "#1st answer\n",
        "x=(2,2,312,323,\"aman\",\"sunil\",4324)\n",
        "print(len(x))"
      ]
    },
    {
      "cell_type": "code",
      "execution_count": null,
      "id": "b9fa1224-b1bb-4021-bf2b-9cb999bafee2",
      "metadata": {
        "id": "b9fa1224-b1bb-4021-bf2b-9cb999bafee2"
      },
      "outputs": [],
      "source": [
        "#2nd. Maximum and Minimum K elements in Tuple"
      ]
    },
    {
      "cell_type": "code",
      "execution_count": null,
      "id": "d1e67892-07a1-4c6f-b193-8ae674eb3099",
      "metadata": {
        "id": "d1e67892-07a1-4c6f-b193-8ae674eb3099",
        "outputId": "3cdf706d-a740-4d8c-aca9-516a18acc7ee"
      },
      "outputs": [
        {
          "name": "stdout",
          "output_type": "stream",
          "text": [
            "maximum 34441\n",
            "minimum  1\n"
          ]
        }
      ],
      "source": [
        "#2nd answer\n",
        "x=(2,2,312,323,1,34441,4324)\n",
        "print(\"maximum\",max(x))\n",
        "print(\"minimum \",min(x))"
      ]
    },
    {
      "cell_type": "code",
      "execution_count": null,
      "id": "ce45bf29-391a-4aaf-9947-783c47b688bc",
      "metadata": {
        "id": "ce45bf29-391a-4aaf-9947-783c47b688bc"
      },
      "outputs": [],
      "source": [
        "#3rd. Create a list of tuples from given list having number and its cube in each tuple"
      ]
    },
    {
      "cell_type": "code",
      "execution_count": null,
      "id": "d9b8a73c-674f-4811-a092-5748cc1e88a0",
      "metadata": {
        "id": "d9b8a73c-674f-4811-a092-5748cc1e88a0",
        "outputId": "60300bcd-a4db-4248-94bf-2bd2c7df75bd"
      },
      "outputs": [
        {
          "name": "stdout",
          "output_type": "stream",
          "text": [
            "[('cube of number', 21, 'is', 9261), ('cube of number', 2, 'is', 8), ('cube of number', 32, 'is', 32768), ('cube of number', 32, 'is', 32768), ('cube of number', 1, 'is', 1), ('cube of number', 31, 'is', 29791), ('cube of number', 44, 'is', 85184)]\n"
          ]
        }
      ],
      "source": [
        "#3rd answer\n",
        "x=[21,2,32,32,1,31,44]\n",
        "y=[]\n",
        "for i in x:\n",
        "    z= (\"cube of number\",i,'is', i**3)\n",
        "    i+=1\n",
        "    y.append(z)\n",
        "print(y)"
      ]
    },
    {
      "cell_type": "code",
      "execution_count": null,
      "id": "4b19f69b-6902-420b-9495-f0da88768411",
      "metadata": {
        "id": "4b19f69b-6902-420b-9495-f0da88768411"
      },
      "outputs": [],
      "source": [
        "#4th.  Adding Tuple to List and vice – versa"
      ]
    },
    {
      "cell_type": "code",
      "execution_count": null,
      "id": "a9506112-dddb-49a8-820a-c26fd2ada08c",
      "metadata": {
        "id": "a9506112-dddb-49a8-820a-c26fd2ada08c",
        "outputId": "518c8d70-6294-4dcf-939d-1c0af80751f6"
      },
      "outputs": [
        {
          "name": "stdout",
          "output_type": "stream",
          "text": [
            "[3243, (21, (2, 32), 32, (1, 31, 44))]\n",
            "(3243, (21, (2, 32), 32, (1, 31, 44)))\n"
          ]
        }
      ],
      "source": [
        "#4th answer\n",
        "x=(21,(2,32),32,(1,31,44))\n",
        "y=[3243]\n",
        "y.append(x)\n",
        "print(y)\n",
        "z=tuple(y)\n",
        "print(z)"
      ]
    },
    {
      "cell_type": "code",
      "execution_count": null,
      "id": "11e76ff3-2cc9-4d61-90cb-16bb323ceab1",
      "metadata": {
        "id": "11e76ff3-2cc9-4d61-90cb-16bb323ceab1"
      },
      "outputs": [],
      "source": [
        "#5th.  Sum of tuple elements"
      ]
    },
    {
      "cell_type": "code",
      "execution_count": null,
      "id": "f3c584fa-73d4-44ac-8e36-a916c2392266",
      "metadata": {
        "id": "f3c584fa-73d4-44ac-8e36-a916c2392266",
        "outputId": "e8ec1dfa-5e7a-488a-d9cf-ee62bbe0c133"
      },
      "outputs": [
        {
          "name": "stdout",
          "output_type": "stream",
          "text": [
            "163\n"
          ]
        }
      ],
      "source": [
        "#5th answer\n",
        "x=(21,2,32,32,1,31,44)\n",
        "y=0\n",
        "for i in x:\n",
        "    y+=i\n",
        "print(y)"
      ]
    },
    {
      "cell_type": "code",
      "execution_count": null,
      "id": "4fcba20d-d5ea-4fdd-b543-16819b9b3c21",
      "metadata": {
        "id": "4fcba20d-d5ea-4fdd-b543-16819b9b3c21"
      },
      "outputs": [],
      "source": [
        "#6th. Modulo of tuple elements"
      ]
    },
    {
      "cell_type": "code",
      "execution_count": null,
      "id": "246d8db4-309e-4042-8639-46ee41b98b1d",
      "metadata": {
        "id": "246d8db4-309e-4042-8639-46ee41b98b1d",
        "outputId": "ad8b9970-3511-4f63-ecca-e62ae14bfcbd"
      },
      "outputs": [
        {
          "name": "stdout",
          "output_type": "stream",
          "text": [
            "(1, 0, 0, 4, 0, 1, 4)\n"
          ]
        }
      ],
      "source": [
        "#6thh answer\n",
        "x=(21,2,32,32,1,31,44)\n",
        "x=list(x)\n",
        "y=(10,2,8,7,1,15,5)\n",
        "y=list(y)\n",
        "z=[]\n",
        "for i in range(len(x)):\n",
        "    z.append(x[i]%y[i])\n",
        "z=tuple(z)\n",
        "print(z)"
      ]
    },
    {
      "cell_type": "code",
      "execution_count": null,
      "id": "06a83b6d-e9f3-4d9c-a6e6-2432a84a0fc4",
      "metadata": {
        "id": "06a83b6d-e9f3-4d9c-a6e6-2432a84a0fc4"
      },
      "outputs": [],
      "source": [
        "#7th. Row-wise element Addition in Tuple Matrix"
      ]
    },
    {
      "cell_type": "code",
      "execution_count": null,
      "id": "effb7386-b98d-4ebd-bbac-bb1a60f19bb7",
      "metadata": {
        "id": "effb7386-b98d-4ebd-bbac-bb1a60f19bb7"
      },
      "outputs": [],
      "source": [
        "#8th. Update each element in tuple list"
      ]
    },
    {
      "cell_type": "code",
      "execution_count": null,
      "id": "115e8f1d-8be8-4c80-877f-c6540cd24f16",
      "metadata": {
        "id": "115e8f1d-8be8-4c80-877f-c6540cd24f16",
        "outputId": "0f617954-67f6-4471-9f35-d4d5545905b9"
      },
      "outputs": [
        {
          "name": "stdout",
          "output_type": "stream",
          "text": [
            "old list ((33, 34, 2), (21, 34, 4))\n",
            "updated list [(33, 4, 2), (21, 4, 4)]\n"
          ]
        }
      ],
      "source": [
        "#8th answer\n",
        "x=((33,34,2),(21,34,4))\n",
        "y=[]\n",
        "for i in x:\n",
        "    z=list(i)\n",
        "    z[1]=4\n",
        "    z=tuple(z)\n",
        "    y.append(z)\n",
        "print(\"old list\",x)\n",
        "print(\"updated list\",y)"
      ]
    },
    {
      "cell_type": "code",
      "execution_count": null,
      "id": "be94f2c8-dc69-437d-987b-5bb695414f0d",
      "metadata": {
        "id": "be94f2c8-dc69-437d-987b-5bb695414f0d"
      },
      "outputs": [],
      "source": [
        "#9th. Multiply Adjacent elements"
      ]
    },
    {
      "cell_type": "code",
      "execution_count": null,
      "id": "eaa72293-84d2-4861-9f40-63f79da9b246",
      "metadata": {
        "id": "eaa72293-84d2-4861-9f40-63f79da9b246",
        "outputId": "612aa8df-d1e0-4bc8-c469-f11fe34e5e4d"
      },
      "outputs": [
        {
          "name": "stdout",
          "output_type": "stream",
          "text": [
            "(42, 64, 1024, 32, 31, 1364)\n"
          ]
        }
      ],
      "source": [
        "#9th answer\n",
        "x=(21,2,32,32,1,31,44)\n",
        "x=list(x)\n",
        "z=[]\n",
        "for i in range(len(x)-1):\n",
        "    z.append(x[i]*x[i+1])\n",
        "z=tuple(z)\n",
        "print(z)"
      ]
    },
    {
      "cell_type": "code",
      "execution_count": null,
      "id": "d4f3b903-c115-4baa-9d39-594d44bd3e29",
      "metadata": {
        "id": "d4f3b903-c115-4baa-9d39-594d44bd3e29"
      },
      "outputs": [],
      "source": [
        "#10th. Join Tuples if similar initial element"
      ]
    },
    {
      "cell_type": "code",
      "execution_count": null,
      "id": "dfa18ba1-4ec1-46a2-9ef9-1b847ed7847e",
      "metadata": {
        "id": "dfa18ba1-4ec1-46a2-9ef9-1b847ed7847e",
        "outputId": "a8daa5d8-becb-4eee-b677-2a3b0ae2fe06"
      },
      "outputs": [
        {
          "name": "stdout",
          "output_type": "stream",
          "text": [
            "[(5, 6, 7), (6, 8, 10), (7, 13)]\n"
          ]
        }
      ],
      "source": [
        "#10th answer\n",
        "x= ((5, 6), (5, 7), (6, 8), (6, 10), (7, 13))\n",
        "y = []\n",
        "z = []\n",
        "for i in x:\n",
        "    i=list(i)\n",
        "    if i[0] not in z:\n",
        "        z.append(i[0])\n",
        "for i in z:\n",
        "    p = []\n",
        "    p.append(i)\n",
        "    for j in x:\n",
        "        if i == j[0]:\n",
        "            p.append(j[1])\n",
        "            k=tuple(p)\n",
        "    y.append(k)\n",
        "print(y)"
      ]
    },
    {
      "cell_type": "code",
      "execution_count": null,
      "id": "184d417e-7811-4f8b-9987-3b5ea67c6528",
      "metadata": {
        "id": "184d417e-7811-4f8b-9987-3b5ea67c6528"
      },
      "outputs": [],
      "source": [
        "#11th. All pair combinations of 2 tuples"
      ]
    },
    {
      "cell_type": "code",
      "execution_count": null,
      "id": "2e565c2a-dc92-48d5-b6f3-2b163aa1ea68",
      "metadata": {
        "id": "2e565c2a-dc92-48d5-b6f3-2b163aa1ea68",
        "outputId": "21e76f34-0de7-4159-9365-34ad9271cc3a"
      },
      "outputs": [
        {
          "name": "stdout",
          "output_type": "stream",
          "text": [
            "All pairs are : ((4, 7), (4, 8), (5, 7), (5, 8), (7, 4), (7, 5), (8, 4), (8, 5))\n"
          ]
        }
      ],
      "source": [
        "#11th answer\n",
        "x1 = (4, 5)\n",
        "x2 = (7, 8)\n",
        "y =  [(a, b) for a in x1 for b in x2]\n",
        "y =y +  [(a, b) for a in x2 for b in x1]\n",
        "y=tuple(y)\n",
        "print(\"All pairs are :\",y)"
      ]
    },
    {
      "cell_type": "code",
      "execution_count": null,
      "id": "0446eed1-1ee2-456b-82cb-a6b9b8b40c0a",
      "metadata": {
        "id": "0446eed1-1ee2-456b-82cb-a6b9b8b40c0a"
      },
      "outputs": [],
      "source": [
        "#12th. Remove Tuples of Length K"
      ]
    },
    {
      "cell_type": "code",
      "execution_count": null,
      "id": "47e3c41a-da84-4125-9145-cb163eaddfdb",
      "metadata": {
        "id": "47e3c41a-da84-4125-9145-cb163eaddfdb",
        "outputId": "eb16e0c0-42c0-443f-a37d-bb131150d226"
      },
      "outputs": [
        {
          "name": "stdout",
          "output_type": "stream",
          "text": [
            "Filtered list :  ((42, 35), (41, 5445), (3432, 344, 436, 327))\n"
          ]
        }
      ],
      "source": [
        "#12th answer\n",
        "x = ((42, 35), (41,5445 ), (83,), (1, ), (3432,344,436, 327))\n",
        "K = 1\n",
        "y = [i for i in x if len(i) != K]\n",
        "y=tuple(y)\n",
        "print(\"Filtered list : \", y)"
      ]
    },
    {
      "cell_type": "code",
      "execution_count": null,
      "id": "e104650c-9cb8-48f0-b3c4-118fdd4fe251",
      "metadata": {
        "id": "e104650c-9cb8-48f0-b3c4-118fdd4fe251"
      },
      "outputs": [],
      "source": [
        "#13th. Remove Tuples from the List having every element as None"
      ]
    },
    {
      "cell_type": "code",
      "execution_count": null,
      "id": "dba2f0df-b907-4baa-a0ca-44e83cefe794",
      "metadata": {
        "id": "dba2f0df-b907-4baa-a0ca-44e83cefe794",
        "outputId": "233d6334-2791-4359-cb85-ac359f083d09"
      },
      "outputs": [
        {
          "name": "stdout",
          "output_type": "stream",
          "text": [
            "[(12, 1323), (211, 455)]\n"
          ]
        }
      ],
      "source": [
        "#13th answer\n",
        "x=((12,1323),(\"None\",),(211,455))\n",
        "y=[]\n",
        "for i in range(len(x)):\n",
        "    if \"None\" not in x[i]:\n",
        "     y.append(x[i])\n",
        "print(y)"
      ]
    },
    {
      "cell_type": "code",
      "execution_count": null,
      "id": "7b0643eb-1518-4e11-be32-0a111f1336c5",
      "metadata": {
        "id": "7b0643eb-1518-4e11-be32-0a111f1336c5"
      },
      "outputs": [],
      "source": [
        "#14th. Sort a list of tuples by second Item"
      ]
    },
    {
      "cell_type": "code",
      "execution_count": null,
      "id": "c86d5480-5873-482f-9cb5-9d738ac80ceb",
      "metadata": {
        "id": "c86d5480-5873-482f-9cb5-9d738ac80ceb",
        "outputId": "7622f3cb-8de6-469c-91e7-b6cb1ee385fb"
      },
      "outputs": [
        {
          "name": "stdout",
          "output_type": "stream",
          "text": [
            "[(1, 9), (3, 6), (4, 7), (2, 4)]\n"
          ]
        }
      ],
      "source": [
        "#14th answer\n",
        "x= [(3, 6),(1, 9),(2, 4),(4, 7)]\n",
        "x[(0)],x[(1)],x[2],x[-1]=x[(1)],x[(0)],x[-1],x[2]\n",
        "print(x)"
      ]
    },
    {
      "cell_type": "code",
      "execution_count": null,
      "id": "42999493-959d-4917-9d69-2fb598fabb7a",
      "metadata": {
        "id": "42999493-959d-4917-9d69-2fb598fabb7a"
      },
      "outputs": [],
      "source": [
        "#15th. Sort Tuples by Total digits"
      ]
    },
    {
      "cell_type": "code",
      "execution_count": null,
      "id": "b903f211-e62d-44cd-bca5-9c927e9e11ca",
      "metadata": {
        "id": "b903f211-e62d-44cd-bca5-9c927e9e11ca",
        "outputId": "f547a9e8-b142-4986-8e25-5f1ad543998b"
      },
      "outputs": [
        {
          "name": "stdout",
          "output_type": "stream",
          "text": [
            "(3, 4, 12, 23, 24, 33, 34, 34, 43, 312)\n"
          ]
        }
      ],
      "source": [
        "#15th answer\n",
        "x=(12,23,24,34,33,312,4,3,34,43)\n",
        "x=list(x)\n",
        "x.sort()\n",
        "x=tuple(x)\n",
        "print(x)"
      ]
    },
    {
      "cell_type": "code",
      "execution_count": null,
      "id": "c0fc0900-4f1d-4718-9947-2405959e6ab5",
      "metadata": {
        "id": "c0fc0900-4f1d-4718-9947-2405959e6ab5"
      },
      "outputs": [],
      "source": [
        "#16th.  Elements frequency in Tuple"
      ]
    },
    {
      "cell_type": "code",
      "execution_count": null,
      "id": "d2a5dcec-cf50-4f01-be72-a9a7c67bf4a9",
      "metadata": {
        "id": "d2a5dcec-cf50-4f01-be72-a9a7c67bf4a9",
        "outputId": "e60d5e10-58c1-4f3d-96f1-9b46e86efd5d"
      },
      "outputs": [
        {
          "name": "stdout",
          "output_type": "stream",
          "text": [
            "{4: 3, 5: 4, 6: 2}\n"
          ]
        }
      ],
      "source": [
        "#16th answer\n",
        "z = (4, 5, 4, 5, 6, 6, 5, 5, 4)\n",
        "res = dict()\n",
        "x=list(z)\n",
        "y=[]\n",
        "for i in x:\n",
        "    if i not in y:\n",
        "        y.append(i)\n",
        "for i in y:\n",
        "    res[i]=x.count(i)\n",
        "print(res)"
      ]
    },
    {
      "cell_type": "code",
      "execution_count": null,
      "id": "8e8ced98-9e17-4e06-93fc-9e7d011b520a",
      "metadata": {
        "id": "8e8ced98-9e17-4e06-93fc-9e7d011b520a"
      },
      "outputs": [],
      "source": [
        "#17th. Filter Range Length Tuples"
      ]
    },
    {
      "cell_type": "code",
      "execution_count": null,
      "id": "c9dbd51a-9339-4830-bcc5-acd52b832e37",
      "metadata": {
        "id": "c9dbd51a-9339-4830-bcc5-acd52b832e37",
        "outputId": "c2dfeeed-5829-444d-c8e8-3ae25e59ba00"
      },
      "outputs": [
        {
          "name": "stdout",
          "output_type": "stream",
          "text": [
            "[(5, 6), (2, 3, 5), (5, 9)]\n"
          ]
        }
      ],
      "source": [
        "#17th answer\n",
        "x = [(4, ), (5, 6), (2, 3, 5), (5, 6, 8, 2), (5, 9)]\n",
        "a,b = 2, 3\n",
        "y = [sub for sub in x if len(sub) >= a and len(sub) <= b]\n",
        "print(y)"
      ]
    },
    {
      "cell_type": "code",
      "execution_count": null,
      "id": "842c9f0b-ee2b-44a8-aac3-e8147d74d39a",
      "metadata": {
        "id": "842c9f0b-ee2b-44a8-aac3-e8147d74d39a"
      },
      "outputs": [],
      "source": [
        "#18th.  Assign Frequency to Tuples"
      ]
    },
    {
      "cell_type": "code",
      "execution_count": null,
      "id": "963f81d8-8547-4f08-8541-7ab1754b799f",
      "metadata": {
        "id": "963f81d8-8547-4f08-8541-7ab1754b799f"
      },
      "outputs": [],
      "source": [
        "#19th. Records with Value at K index"
      ]
    },
    {
      "cell_type": "code",
      "execution_count": null,
      "id": "6fafee3a-7cec-4d9f-9501-21ff6294f504",
      "metadata": {
        "id": "6fafee3a-7cec-4d9f-9501-21ff6294f504",
        "outputId": "6fa3c94c-33fb-45a4-88a3-3bd37f4c3efd"
      },
      "outputs": [
        {
          "name": "stdout",
          "output_type": "stream",
          "text": [
            "[(1, 3, 6), (6, 3, 0)]\n"
          ]
        }
      ],
      "source": [
        "#19th answer\n",
        "x = [(3, 1, 5), (1, 3, 6), (2, 5, 7), (5, 2, 8), (6, 3, 0)]\n",
        "ele = 3\n",
        "z = []\n",
        "for a,b,c in x:\n",
        "    if b == ele:\n",
        "        z.append((a,b,c))\n",
        "print(z)"
      ]
    },
    {
      "cell_type": "code",
      "execution_count": null,
      "id": "b56533e9-d4b0-4c56-ba64-0b8de626f018",
      "metadata": {
        "id": "b56533e9-d4b0-4c56-ba64-0b8de626f018"
      },
      "outputs": [],
      "source": [
        "#20th. Test if tuple is distinct"
      ]
    },
    {
      "cell_type": "code",
      "execution_count": null,
      "id": "afe1c18a-1f1e-4cb8-8f2e-2e842664713a",
      "metadata": {
        "id": "afe1c18a-1f1e-4cb8-8f2e-2e842664713a",
        "outputId": "35b5438d-d208-4595-96c2-1341ddd5aee5"
      },
      "outputs": [
        {
          "name": "stdout",
          "output_type": "stream",
          "text": [
            "False\n"
          ]
        }
      ],
      "source": [
        "#20th answer\n",
        "x = (1, 43,1,34)\n",
        "y = True\n",
        "z = set()\n",
        "for i in x:\n",
        "    if i in z:\n",
        "        y = False\n",
        "    z.add(i)\n",
        "print(y)"
      ]
    },
    {
      "cell_type": "code",
      "execution_count": null,
      "id": "9563ca74-f390-4674-804e-56827d7af495",
      "metadata": {
        "id": "9563ca74-f390-4674-804e-56827d7af495"
      },
      "outputs": [],
      "source": [
        "#21st. program to find tuples which have all elements divisible by K from a list of tuples"
      ]
    },
    {
      "cell_type": "code",
      "execution_count": null,
      "id": "47d03c64-4a1f-468b-bd5b-53efec70a666",
      "metadata": {
        "id": "47d03c64-4a1f-468b-bd5b-53efec70a666",
        "outputId": "b7c6568c-95f0-4f1d-d12a-bf9793aea180"
      },
      "outputs": [
        {
          "name": "stdout",
          "output_type": "stream",
          "text": [
            "[(6, 24, 12)]\n"
          ]
        }
      ],
      "source": [
        "#21st answer\n",
        "x = [(6, 24, 12), (7, 9, 6), (12, 18, 21)]\n",
        "y = 6\n",
        "z = []\n",
        "for i in x:\n",
        "    c=0\n",
        "    for j in i:\n",
        "        if(j%y==0):\n",
        "            c+=1\n",
        "    if(c==len(i)):\n",
        "        z.append(i)\n",
        "print(z)"
      ]
    },
    {
      "cell_type": "code",
      "execution_count": null,
      "id": "e86b0516-87b2-4dc2-b380-9704b2a2b8e7",
      "metadata": {
        "id": "e86b0516-87b2-4dc2-b380-9704b2a2b8e7"
      },
      "outputs": [],
      "source": [
        "#22nd. program to find Tuples with positive elements in List of tuples"
      ]
    },
    {
      "cell_type": "code",
      "execution_count": null,
      "id": "5365d118-e658-470d-b417-7009c2ef6ff5",
      "metadata": {
        "id": "5365d118-e658-470d-b417-7009c2ef6ff5",
        "outputId": "abe8d7b9-404d-40c3-9677-fb097a13ad27"
      },
      "outputs": [
        {
          "name": "stdout",
          "output_type": "stream",
          "text": [
            "[(4, 6), (4, 6)]\n"
          ]
        }
      ],
      "source": [
        "#22nd answer\n",
        "x = [(4, 5, 9), (-3, 2, 3), (-3, 5, 6), (4, 6)]\n",
        "z = []\n",
        "for i in x:\n",
        "    positive = True\n",
        "    for ele in i:\n",
        "        if ele < 0:\n",
        "            positive = False\n",
        "    if positive:\n",
        "        z.append(tup)\n",
        "print(z)"
      ]
    },
    {
      "cell_type": "code",
      "execution_count": null,
      "id": "8650af14-10e3-4f52-a22d-f5b3bf7256a2",
      "metadata": {
        "id": "8650af14-10e3-4f52-a22d-f5b3bf7256a2"
      },
      "outputs": [],
      "source": [
        "#23rd. Count tuples occurrence in list of tuples"
      ]
    },
    {
      "cell_type": "code",
      "execution_count": null,
      "id": "64a8c31a-d5a9-4077-a651-d8ab44c3cba6",
      "metadata": {
        "id": "64a8c31a-d5a9-4077-a651-d8ab44c3cba6",
        "outputId": "32901632-4c1a-4c7a-d97e-3ce68f861492"
      },
      "outputs": [
        {
          "name": "stdout",
          "output_type": "stream",
          "text": [
            "{('hi', 'bye'): 1, ('you', 'us'): 1, ('a', 'b'): 1}\n"
          ]
        }
      ],
      "source": [
        "#23rd answer\n",
        "x = [('hi', 'bye'),('you', 'us'),('a', 'b'),('hi', 'bye'),('a', 'b')]\n",
        "y=dict()\n",
        "for i in x:\n",
        "  if i not in y:\n",
        "    y[i]=1\n",
        "print(y)"
      ]
    },
    {
      "cell_type": "code",
      "execution_count": null,
      "id": "ac2febe2-1ffb-4cd7-b40c-3bed18c9460b",
      "metadata": {
        "id": "ac2febe2-1ffb-4cd7-b40c-3bed18c9460b"
      },
      "outputs": [],
      "source": [
        "#24th.  Remove duplicate lists in tuples"
      ]
    },
    {
      "cell_type": "code",
      "execution_count": null,
      "id": "c35c55e3-e346-46ff-8a33-6ea17e712f96",
      "metadata": {
        "id": "c35c55e3-e346-46ff-8a33-6ea17e712f96",
        "outputId": "febf7fa6-2caa-4b95-b9d1-c37cfb602506"
      },
      "outputs": [
        {
          "name": "stdout",
          "output_type": "stream",
          "text": [
            "[[4, 7, 8], [1, 2, 3], [9, 10, 11]]\n"
          ]
        }
      ],
      "source": [
        "#24th answer\n",
        "x= ([4, 7, 8], [1, 2, 3], [4, 7, 8], [9, 10, 11], [1, 2, 3])\n",
        "y = []\n",
        "for i in x:\n",
        "    if i not in y:\n",
        "        y.append(i)\n",
        "print(y)"
      ]
    },
    {
      "cell_type": "code",
      "execution_count": null,
      "id": "f6ab7247-7bd0-493b-a514-dd145fbe1580",
      "metadata": {
        "id": "f6ab7247-7bd0-493b-a514-dd145fbe1580"
      },
      "outputs": [],
      "source": [
        "#25th. Extract digits from Tuple list"
      ]
    },
    {
      "cell_type": "code",
      "execution_count": null,
      "id": "af00b6ad-d2d6-4055-8580-cd5f74110054",
      "metadata": {
        "id": "af00b6ad-d2d6-4055-8580-cd5f74110054",
        "outputId": "07f5255c-e546-4ac6-cba9-eab59a3f67f5"
      },
      "outputs": [
        {
          "name": "stdout",
          "output_type": "stream",
          "text": [
            "[2, 1, 0, 3, 9, 5]\n"
          ]
        }
      ],
      "source": [
        "#25th answer\n",
        "x = [(15, 3), (3, 9), (1, 10), (99, 2)]\n",
        "y = ''.join([str(i) for a in x for i in a])\n",
        "z = set(y)\n",
        "z = [int(i) for i in z]\n",
        "print(z)"
      ]
    },
    {
      "cell_type": "code",
      "execution_count": null,
      "id": "ef897a33-aeb9-4abf-aceb-888ace77c09e",
      "metadata": {
        "id": "ef897a33-aeb9-4abf-aceb-888ace77c09e"
      },
      "outputs": [],
      "source": [
        "#26th. Cross Pairing in Tuple List"
      ]
    },
    {
      "cell_type": "code",
      "execution_count": null,
      "id": "c0d35243-c279-4798-adda-abdaba30f006",
      "metadata": {
        "id": "c0d35243-c279-4798-adda-abdaba30f006",
        "outputId": "0f88a67a-aae1-41d6-ff90-f294a126c2fa"
      },
      "outputs": [
        {
          "name": "stdout",
          "output_type": "stream",
          "text": [
            "[(7, 3), (100, 7), (21, 17)]\n"
          ]
        }
      ],
      "source": [
        "#26th answer\n",
        "x = [(1, 7), (6, 7), (9, 100), (4, 21)]\n",
        "y = [(1, 3), (2, 1), (9, 7), (4, 17)]\n",
        "z = [(a[1], b[1]) for b in y for a in x if a[0] == b[0]]\n",
        "print(z)"
      ]
    },
    {
      "cell_type": "code",
      "execution_count": null,
      "id": "75231f11-1117-4058-a20f-26205d1811f4",
      "metadata": {
        "id": "75231f11-1117-4058-a20f-26205d1811f4"
      },
      "outputs": [],
      "source": [
        "#27th. Consecutive Kth column Difference in Tuple List"
      ]
    },
    {
      "cell_type": "code",
      "execution_count": null,
      "id": "73e3a304-2bd3-4e8b-a4f1-c63aaf125c63",
      "metadata": {
        "id": "73e3a304-2bd3-4e8b-a4f1-c63aaf125c63",
        "outputId": "bccc7f4d-376c-4aae-8852-a4c4af707400"
      },
      "outputs": [
        {
          "name": "stdout",
          "output_type": "stream",
          "text": [
            "[1, 4, 3]\n"
          ]
        }
      ],
      "source": [
        "#27th answer\n",
        "x = [(5, 4, 2), (1, 3, 4), (5, 7, 8), (7, 4, 3)]\n",
        "y = 1\n",
        "z = []\n",
        "for i in range(0, len(x) - 1):\n",
        "    z.append(abs(x[i][y] - x[i + 1][y]))\n",
        "print(z)"
      ]
    },
    {
      "cell_type": "code",
      "execution_count": null,
      "id": "c67782b0-c614-41e1-9a43-c1b0ce22295a",
      "metadata": {
        "id": "c67782b0-c614-41e1-9a43-c1b0ce22295a"
      },
      "outputs": [],
      "source": [
        "#28th.  Kth Column Product in Tuple List"
      ]
    },
    {
      "cell_type": "code",
      "execution_count": null,
      "id": "9af63bd1-e682-41a4-8cd0-cb232afcd54c",
      "metadata": {
        "id": "9af63bd1-e682-41a4-8cd0-cb232afcd54c",
        "outputId": "e8a46f82-2339-496a-a41b-33de246f0959"
      },
      "outputs": [
        {
          "name": "stdout",
          "output_type": "stream",
          "text": [
            "Product 162\n"
          ]
        }
      ],
      "source": [
        "#28th answer\n",
        "x = [(5, 6, 7), (1, 3, 5), (8, 9, 19)]\n",
        "y = 1\n",
        "for tup in x:\n",
        "    y*= tup[1]\n",
        "print(\"Product\" ,y)"
      ]
    },
    {
      "cell_type": "code",
      "execution_count": null,
      "id": "592d961c-3411-442d-8d36-17496829484e",
      "metadata": {
        "id": "592d961c-3411-442d-8d36-17496829484e"
      },
      "outputs": [],
      "source": [
        "#29th. Flatten tuple of List to tuple"
      ]
    },
    {
      "cell_type": "code",
      "execution_count": null,
      "id": "025b1cec-4960-45c3-8768-c47fecf8229b",
      "metadata": {
        "id": "025b1cec-4960-45c3-8768-c47fecf8229b",
        "outputId": "6240c717-3a9e-46d8-94ef-3725efa255d1"
      },
      "outputs": [
        {
          "name": "stdout",
          "output_type": "stream",
          "text": [
            "tuple  (5, 6, 6, 7, 8, 9, 3)\n"
          ]
        }
      ],
      "source": [
        "#29th answer\n",
        "x = ([5, 6], [6, 7, 8, 9], [3])\n",
        "z = tuple(sum(x, []))\n",
        "print(\"tuple \", z)"
      ]
    },
    {
      "cell_type": "code",
      "execution_count": null,
      "id": "60c6d43e-e4a9-400b-959e-b384f7f48838",
      "metadata": {
        "id": "60c6d43e-e4a9-400b-959e-b384f7f48838"
      },
      "outputs": [],
      "source": [
        "#30th. Program to sort a list of tuples alphabetically"
      ]
    },
    {
      "cell_type": "code",
      "execution_count": null,
      "id": "013f62d9-9412-45b7-bacd-6fcf918c1a83",
      "metadata": {
        "id": "013f62d9-9412-45b7-bacd-6fcf918c1a83"
      },
      "outputs": [],
      "source": [
        "#30th answer"
      ]
    },
    {
      "cell_type": "code",
      "execution_count": null,
      "id": "7ef770d6-ccd6-4271-b9d3-cbc1dc9fb884",
      "metadata": {
        "id": "7ef770d6-ccd6-4271-b9d3-cbc1dc9fb884"
      },
      "outputs": [],
      "source": [
        "#31st. Combinations of sum with tuples in tuple list"
      ]
    },
    {
      "cell_type": "code",
      "execution_count": null,
      "id": "cd99cd81-9897-40cd-95d6-abd5793cce42",
      "metadata": {
        "id": "cd99cd81-9897-40cd-95d6-abd5793cce42",
        "outputId": "f30c2509-be2a-49e7-b954-1f2d042603e5"
      },
      "outputs": [
        {
          "name": "stdout",
          "output_type": "stream",
          "text": [
            "combinations [(8, 11), (7, 5), (8, 14), (11, 8), (12, 17), (11, 11)]\n"
          ]
        }
      ],
      "source": [
        "#31st answer\n",
        "x = [(2, 4), (6, 7), (5, 1), (6, 10)]\n",
        "y = []\n",
        "for i in range(len(x)):\n",
        "    for j in range(i+1, len(x)):\n",
        "        y.append((x[i][0]+x[j][0],\n",
        "                    x[i][1]+x[j][1]))\n",
        "print(\"combinations\" ,y)"
      ]
    },
    {
      "cell_type": "code",
      "execution_count": null,
      "id": "923ceb90-09ee-433d-8a54-c54f463beaaf",
      "metadata": {
        "id": "923ceb90-09ee-433d-8a54-c54f463beaaf"
      },
      "outputs": [],
      "source": [
        "#32nd. Custom sorting in list of tuples"
      ]
    },
    {
      "cell_type": "code",
      "execution_count": null,
      "id": "8dd71989-68d1-4293-8a03-1ba2ae4cd755",
      "metadata": {
        "id": "8dd71989-68d1-4293-8a03-1ba2ae4cd755"
      },
      "outputs": [],
      "source": [
        "#32nd answer"
      ]
    }
  ],
  "metadata": {
    "kernelspec": {
      "display_name": "Python 3 (ipykernel)",
      "language": "python",
      "name": "python3"
    },
    "language_info": {
      "codemirror_mode": {
        "name": "ipython",
        "version": 3
      },
      "file_extension": ".py",
      "mimetype": "text/x-python",
      "name": "python",
      "nbconvert_exporter": "python",
      "pygments_lexer": "ipython3",
      "version": "3.12.4"
    },
    "colab": {
      "provenance": []
    }
  },
  "nbformat": 4,
  "nbformat_minor": 5
}