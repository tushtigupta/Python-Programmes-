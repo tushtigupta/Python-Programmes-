{
  "nbformat": 4,
  "nbformat_minor": 0,
  "metadata": {
    "colab": {
      "provenance": []
    },
    "kernelspec": {
      "name": "python3",
      "display_name": "Python 3"
    },
    "language_info": {
      "name": "python"
    }
  },
  "cells": [
    {
      "cell_type": "code",
      "execution_count": null,
      "metadata": {
        "id": "hWFrjXsRUdNq"
      },
      "outputs": [],
      "source": [
        "#Set()\n",
        "#Sets items are unchangeable,unordered and unindexed. You can remove or add new items."
      ]
    },
    {
      "cell_type": "code",
      "source": [
        "set={'apple','banana','cherry',False ,2,0,3}\n",
        "print(set)"
      ],
      "metadata": {
        "colab": {
          "base_uri": "https://localhost:8080/"
        },
        "id": "FfmG236-Vcgw",
        "outputId": "2db09f7a-598c-4f14-8902-99741fff2c41"
      },
      "execution_count": null,
      "outputs": [
        {
          "output_type": "stream",
          "name": "stdout",
          "text": [
            "{False, 2, 3, 'banana', 'cherry', 'apple'}\n"
          ]
        }
      ]
    },
    {
      "cell_type": "code",
      "source": [
        "set={'apple','banana','cherry'}\n",
        "print('banana' in set)"
      ],
      "metadata": {
        "colab": {
          "base_uri": "https://localhost:8080/"
        },
        "id": "jLL3Q_oAVmaP",
        "outputId": "004da949-12f2-453b-f02a-9a866ee738c8"
      },
      "execution_count": null,
      "outputs": [
        {
          "output_type": "stream",
          "name": "stdout",
          "text": [
            "True\n"
          ]
        }
      ]
    },
    {
      "cell_type": "code",
      "source": [
        "set={'apple','banana','cherry'}\n",
        "print('orange' in set)"
      ],
      "metadata": {
        "colab": {
          "base_uri": "https://localhost:8080/"
        },
        "id": "FKOy9JCKXKku",
        "outputId": "b2773970-c1d3-486e-e04b-c17a7ef274c6"
      },
      "execution_count": null,
      "outputs": [
        {
          "output_type": "stream",
          "name": "stdout",
          "text": [
            "False\n"
          ]
        }
      ]
    },
    {
      "cell_type": "code",
      "source": [
        "set={'apple','banana','cherry'}\n",
        "print('orange'  not in set)"
      ],
      "metadata": {
        "colab": {
          "base_uri": "https://localhost:8080/"
        },
        "id": "ji6pYQg1XTJx",
        "outputId": "bc13bd96-ca60-4371-9308-c956f9303359"
      },
      "execution_count": null,
      "outputs": [
        {
          "output_type": "stream",
          "name": "stdout",
          "text": [
            "True\n"
          ]
        }
      ]
    },
    {
      "cell_type": "code",
      "source": [
        " set={'apple','banana','cherry'}\n",
        " set.add('orange')\n",
        " print(set)"
      ],
      "metadata": {
        "colab": {
          "base_uri": "https://localhost:8080/"
        },
        "id": "ElrGwY-JYv4U",
        "outputId": "3a72970b-291f-4757-e4fe-8784456103cd"
      },
      "execution_count": null,
      "outputs": [
        {
          "output_type": "stream",
          "name": "stdout",
          "text": [
            "{'apple', 'orange', 'banana', 'cherry'}\n"
          ]
        }
      ]
    },
    {
      "cell_type": "code",
      "source": [
        "set={'apple','banana','cherry'}\n",
        "tropical={'pineapple','mango','papaya'}\n",
        "set.update(tropical)\n",
        "print(set)"
      ],
      "metadata": {
        "colab": {
          "base_uri": "https://localhost:8080/"
        },
        "id": "rBZxT2ZPaLUO",
        "outputId": "1c4ca343-bb66-465b-f26e-3612640b3ff7"
      },
      "execution_count": null,
      "outputs": [
        {
          "output_type": "stream",
          "name": "stdout",
          "text": [
            "{'papaya', 'banana', 'cherry', 'mango', 'apple', 'pineapple'}\n"
          ]
        }
      ]
    },
    {
      "cell_type": "code",
      "source": [
        "set={'apple','banana','cherry'}\n",
        "tropical=['kiwi','orange']\n",
        "set.update(tropical)\n",
        "print(set)"
      ],
      "metadata": {
        "colab": {
          "base_uri": "https://localhost:8080/"
        },
        "id": "bZp9ZrGaa1Zh",
        "outputId": "c209c60c-cc92-4a76-eee8-ef5206c78608"
      },
      "execution_count": null,
      "outputs": [
        {
          "output_type": "stream",
          "name": "stdout",
          "text": [
            "{'banana', 'cherry', 'apple', 'kiwi', 'orange'}\n"
          ]
        }
      ]
    },
    {
      "cell_type": "code",
      "source": [
        "set={'apple','banana','cherry'}\n",
        "set.remove('banana')\n",
        "print(set)"
      ],
      "metadata": {
        "colab": {
          "base_uri": "https://localhost:8080/"
        },
        "id": "hjCaMcwObeq3",
        "outputId": "f33f1dc7-9751-4f64-efd0-9c2d5732abb6"
      },
      "execution_count": null,
      "outputs": [
        {
          "output_type": "stream",
          "name": "stdout",
          "text": [
            "{'apple', 'cherry'}\n"
          ]
        }
      ]
    },
    {
      "cell_type": "code",
      "source": [
        "set={'apple','banana','cherry'}\n",
        "set.discard('banana')\n",
        "print(set)"
      ],
      "metadata": {
        "colab": {
          "base_uri": "https://localhost:8080/"
        },
        "id": "-_0L0wiVcD0t",
        "outputId": "6de4ab5d-4149-41ba-ff90-085a7fcfdddb"
      },
      "execution_count": null,
      "outputs": [
        {
          "output_type": "stream",
          "name": "stdout",
          "text": [
            "{'apple', 'cherry'}\n"
          ]
        }
      ]
    },
    {
      "cell_type": "code",
      "source": [
        "set={'apple','banana','cherry'}\n",
        "set.remove('orange')\n",
        "print(set)"
      ],
      "metadata": {
        "colab": {
          "base_uri": "https://localhost:8080/",
          "height": 176
        },
        "id": "utyq0KGhcp0h",
        "outputId": "a963832c-9975-4553-ca6b-3c369a8de718"
      },
      "execution_count": null,
      "outputs": [
        {
          "output_type": "error",
          "ename": "KeyError",
          "evalue": "'orange'",
          "traceback": [
            "\u001b[0;31m---------------------------------------------------------------------------\u001b[0m",
            "\u001b[0;31mKeyError\u001b[0m                                  Traceback (most recent call last)",
            "\u001b[0;32m<ipython-input-15-ac3317d3fc30>\u001b[0m in \u001b[0;36m<cell line: 2>\u001b[0;34m()\u001b[0m\n\u001b[1;32m      1\u001b[0m \u001b[0mset\u001b[0m\u001b[0;34m=\u001b[0m\u001b[0;34m{\u001b[0m\u001b[0;34m'apple'\u001b[0m\u001b[0;34m,\u001b[0m\u001b[0;34m'banana'\u001b[0m\u001b[0;34m,\u001b[0m\u001b[0;34m'cherry'\u001b[0m\u001b[0;34m}\u001b[0m\u001b[0;34m\u001b[0m\u001b[0;34m\u001b[0m\u001b[0m\n\u001b[0;32m----> 2\u001b[0;31m \u001b[0mset\u001b[0m\u001b[0;34m.\u001b[0m\u001b[0mremove\u001b[0m\u001b[0;34m(\u001b[0m\u001b[0;34m'orange'\u001b[0m\u001b[0;34m)\u001b[0m\u001b[0;34m\u001b[0m\u001b[0;34m\u001b[0m\u001b[0m\n\u001b[0m\u001b[1;32m      3\u001b[0m \u001b[0mprint\u001b[0m\u001b[0;34m(\u001b[0m\u001b[0mset\u001b[0m\u001b[0;34m)\u001b[0m\u001b[0;34m\u001b[0m\u001b[0;34m\u001b[0m\u001b[0m\n",
            "\u001b[0;31mKeyError\u001b[0m: 'orange'"
          ]
        }
      ]
    },
    {
      "cell_type": "code",
      "source": [
        "set={'apple','banana','cherry'}\n",
        "set.discard('orange')\n",
        "print(set)"
      ],
      "metadata": {
        "colab": {
          "base_uri": "https://localhost:8080/"
        },
        "id": "hCStF8Sfc8rP",
        "outputId": "3d232043-f091-4150-ff97-3e017ccb3955"
      },
      "execution_count": null,
      "outputs": [
        {
          "output_type": "stream",
          "name": "stdout",
          "text": [
            "{'apple', 'banana', 'cherry'}\n"
          ]
        }
      ]
    },
    {
      "cell_type": "code",
      "source": [
        "set={'apple','banana','cherry'}\n",
        "x=set.pop()\n",
        "print(x)\n",
        "print(set)"
      ],
      "metadata": {
        "colab": {
          "base_uri": "https://localhost:8080/"
        },
        "id": "1mU5P8fjdEcc",
        "outputId": "f8c97230-eded-42f7-891b-3e9ea75f0c28"
      },
      "execution_count": null,
      "outputs": [
        {
          "output_type": "stream",
          "name": "stdout",
          "text": [
            "apple\n",
            "{'banana', 'cherry'}\n"
          ]
        }
      ]
    },
    {
      "cell_type": "code",
      "source": [
        "set={'apple','banana','cherry'}\n",
        "x=set.clear()\n",
        "print(x)\n"
      ],
      "metadata": {
        "colab": {
          "base_uri": "https://localhost:8080/"
        },
        "id": "vAkgGm6udS4F",
        "outputId": "cd93c7e7-3bf3-4fa8-eaf3-fe6e6ca725d4"
      },
      "execution_count": null,
      "outputs": [
        {
          "output_type": "stream",
          "name": "stdout",
          "text": [
            "None\n"
          ]
        }
      ]
    },
    {
      "cell_type": "code",
      "source": [
        "set={'apple','banana','cherry'}\n",
        "del set\n",
        "print(set)"
      ],
      "metadata": {
        "colab": {
          "base_uri": "https://localhost:8080/"
        },
        "id": "jSch6Ylhd5xs",
        "outputId": "f6416e1d-b90b-4020-8be7-adb9c2e1af1d"
      },
      "execution_count": null,
      "outputs": [
        {
          "output_type": "stream",
          "name": "stdout",
          "text": [
            "<class 'set'>\n"
          ]
        }
      ]
    },
    {
      "cell_type": "code",
      "source": [
        "#Joining Sets"
      ],
      "metadata": {
        "id": "IpW22JcuYcWG"
      },
      "execution_count": null,
      "outputs": []
    },
    {
      "cell_type": "code",
      "source": [
        "#Union()\n",
        "set1={\"X\",\"Y\",\"Z\"}\n",
        "set2={6,7,8}\n",
        "set3=set1.union(set2)\n",
        "print(set3)"
      ],
      "metadata": {
        "colab": {
          "base_uri": "https://localhost:8080/"
        },
        "id": "SWbpC5QxYpDN",
        "outputId": "e00436a0-f541-4d24-d000-5d942fc5df3b"
      },
      "execution_count": null,
      "outputs": [
        {
          "output_type": "stream",
          "name": "stdout",
          "text": [
            "{'X', 6, 7, 8, 'Y', 'Z'}\n"
          ]
        }
      ]
    },
    {
      "cell_type": "markdown",
      "source": [],
      "metadata": {
        "id": "AHi3DQRwYbVA"
      }
    },
    {
      "cell_type": "code",
      "source": [
        "#| Operator\n",
        "set1={\"X\",\"Y\",\"Z\"}\n",
        "set2={6,7,8}\n",
        "set3=set1|set2\n",
        "print(set3)"
      ],
      "metadata": {
        "id": "UxYNDr1IeolA",
        "colab": {
          "base_uri": "https://localhost:8080/"
        },
        "outputId": "c215c68c-134e-49d2-eeee-291cbf5a0abb"
      },
      "execution_count": null,
      "outputs": [
        {
          "output_type": "stream",
          "name": "stdout",
          "text": [
            "{'X', 6, 7, 8, 'Y', 'Z'}\n"
          ]
        }
      ]
    },
    {
      "cell_type": "code",
      "source": [
        "#Joining Multiple Sets\n",
        "set1={\"X\",\"Y\",\"Z\"}\n",
        "set2={6,7,8}\n",
        "set3={\"Motu\",'patlu'}\n",
        "set4={'King','Kong'}\n",
        "largestset=set1.union(set2,set3,set4)\n",
        "print(largestset)"
      ],
      "metadata": {
        "colab": {
          "base_uri": "https://localhost:8080/"
        },
        "id": "i-C_HEsbYXjo",
        "outputId": "45522128-59e2-4e97-b723-a0283170159d"
      },
      "execution_count": null,
      "outputs": [
        {
          "output_type": "stream",
          "name": "stdout",
          "text": [
            "{'patlu', 'Motu', 'Kong', 6, 7, 8, 'Y', 'Z', 'X', 'King'}\n"
          ]
        }
      ]
    },
    {
      "cell_type": "code",
      "source": [
        "set1={\"X\",\"Y\",\"Z\"}\n",
        "set2={6,7,8}\n",
        "set3={\"Motu\",'patlu'}\n",
        "set4={'King','Kong'}\n",
        "largestset=set1|set2|set3|set4\n",
        "print(largestset)"
      ],
      "metadata": {
        "colab": {
          "base_uri": "https://localhost:8080/"
        },
        "id": "trESAWIKaPEe",
        "outputId": "5eecbfea-898c-4215-94ba-dfed8aac02b1"
      },
      "execution_count": null,
      "outputs": [
        {
          "output_type": "stream",
          "name": "stdout",
          "text": [
            "{'patlu', 'Motu', 'Kong', 6, 7, 8, 'Y', 'Z', 'X', 'King'}\n"
          ]
        }
      ]
    },
    {
      "cell_type": "code",
      "source": [
        "#Update ()\n",
        "set1={\"X\",\"Y\",\"Z\"}\n",
        "set2={6,7,8}\n",
        "set1.update(set2)\n",
        "print(set1)"
      ],
      "metadata": {
        "colab": {
          "base_uri": "https://localhost:8080/"
        },
        "id": "-ymITDtuaoRA",
        "outputId": "66df6521-d171-4a56-e0ce-f155abc78c5b"
      },
      "execution_count": null,
      "outputs": [
        {
          "output_type": "stream",
          "name": "stdout",
          "text": [
            "{'X', 6, 7, 8, 'Y', 'Z'}\n"
          ]
        }
      ]
    },
    {
      "cell_type": "code",
      "source": [
        "#Intersection Method (Common)\n",
        "set1={\"X\",\"Y\",\"Z\"}\n",
        "set2={6,7,8}\n",
        "set3=set1.intersection(set2)\n",
        "print(set3)"
      ],
      "metadata": {
        "colab": {
          "base_uri": "https://localhost:8080/"
        },
        "id": "vc7E8aLobCuJ",
        "outputId": "d9c05c97-ad11-41ac-f108-277f858f68cc"
      },
      "execution_count": null,
      "outputs": [
        {
          "output_type": "stream",
          "name": "stdout",
          "text": [
            "set()\n"
          ]
        }
      ]
    },
    {
      "cell_type": "code",
      "source": [
        "# & OPerator (Common)\n",
        "set1={\"X\",\"Y\",\"Z\"}\n",
        "set2={6,7,8,'X'}\n",
        "set3=set1 & set2\n",
        "print(set3)\n"
      ],
      "metadata": {
        "colab": {
          "base_uri": "https://localhost:8080/"
        },
        "id": "2rHyIkEBbW4P",
        "outputId": "2ccf2546-0e5e-4bd9-9c32-822349b46529"
      },
      "execution_count": null,
      "outputs": [
        {
          "output_type": "stream",
          "name": "stdout",
          "text": [
            "{'X'}\n"
          ]
        }
      ]
    },
    {
      "cell_type": "code",
      "source": [
        "#Difference Method\n",
        "set1={\"X\",\"Y\",\"Z\"}\n",
        "set2={6,7,8,'X'}\n",
        "set3=set1.difference(set2)\n",
        "print(set3)"
      ],
      "metadata": {
        "colab": {
          "base_uri": "https://localhost:8080/"
        },
        "id": "1N93c5e-cN0E",
        "outputId": "faf50463-f620-4bae-9012-dda1926d52e2"
      },
      "execution_count": null,
      "outputs": [
        {
          "output_type": "stream",
          "name": "stdout",
          "text": [
            "{'Y', 'Z'}\n"
          ]
        }
      ]
    },
    {
      "cell_type": "code",
      "source": [
        "set1={\"X\",\"Y\",\"Z\"}\n",
        "set2={6,7,8,'X'}\n",
        "set3=set2.difference(set1)\n",
        "print(set3)\n"
      ],
      "metadata": {
        "colab": {
          "base_uri": "https://localhost:8080/"
        },
        "id": "TN4tfs3RchTc",
        "outputId": "2256427c-222a-4b9e-f41b-503839ea4f06"
      },
      "execution_count": null,
      "outputs": [
        {
          "output_type": "stream",
          "name": "stdout",
          "text": [
            "{8, 6, 7}\n"
          ]
        }
      ]
    },
    {
      "cell_type": "code",
      "source": [],
      "metadata": {
        "id": "qYLVPysBcwdN"
      },
      "execution_count": null,
      "outputs": []
    }
  ]
}