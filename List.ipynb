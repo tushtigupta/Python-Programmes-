{
  "nbformat": 4,
  "nbformat_minor": 0,
  "metadata": {
    "colab": {
      "provenance": []
    },
    "kernelspec": {
      "name": "python3",
      "display_name": "Python 3"
    },
    "language_info": {
      "name": "python"
    }
  },
  "cells": [
    {
      "cell_type": "code",
      "source": [
        "#List Creation"
      ],
      "metadata": {
        "id": "i-nnk51QShm1"
      },
      "execution_count": null,
      "outputs": []
    },
    {
      "cell_type": "code",
      "execution_count": null,
      "metadata": {
        "id": "6Rp0wmhJVh3q",
        "colab": {
          "base_uri": "https://localhost:8080/"
        },
        "outputId": "0a562f04-05e3-4d6b-9ade-6ed3b4688aeb"
      },
      "outputs": [
        {
          "output_type": "stream",
          "name": "stdout",
          "text": [
            "[1, 1, 2, 3, 4, 5]\n"
          ]
        }
      ],
      "source": [
        "L1=[1,1,2,3,4,5]\n",
        "print(L1)"
      ]
    },
    {
      "cell_type": "code",
      "source": [
        "print(type(L1))"
      ],
      "metadata": {
        "colab": {
          "base_uri": "https://localhost:8080/"
        },
        "id": "3FnGQN2pxa-e",
        "outputId": "d213cf00-24b7-4c89-80ec-fe4a273edffa"
      },
      "execution_count": null,
      "outputs": [
        {
          "output_type": "stream",
          "name": "stdout",
          "text": [
            "<class 'list'>\n"
          ]
        }
      ]
    },
    {
      "cell_type": "code",
      "source": [
        "print(len(L1))"
      ],
      "metadata": {
        "colab": {
          "base_uri": "https://localhost:8080/"
        },
        "id": "IZwMA3hxxulV",
        "outputId": "7740a358-e0ed-4efc-da9a-077c21df3d6b"
      },
      "execution_count": null,
      "outputs": [
        {
          "output_type": "stream",
          "name": "stdout",
          "text": [
            "5\n"
          ]
        }
      ]
    },
    {
      "cell_type": "code",
      "source": [
        "# List with multiple data types\n",
        "l2=[\"A\",2,\"B\",3,4,5]"
      ],
      "metadata": {
        "id": "cB0xm7OIxxLd"
      },
      "execution_count": null,
      "outputs": []
    },
    {
      "cell_type": "code",
      "source": [
        "print(l2)"
      ],
      "metadata": {
        "colab": {
          "base_uri": "https://localhost:8080/"
        },
        "id": "YAi2FexAyLKV",
        "outputId": "35c40c9c-30a8-4d04-f275-ca33ef0c33c0"
      },
      "execution_count": null,
      "outputs": [
        {
          "output_type": "stream",
          "name": "stdout",
          "text": [
            "['A', 2, 'B', 3, 4, 5]\n"
          ]
        }
      ]
    },
    {
      "cell_type": "code",
      "source": [
        "# Change item value"
      ],
      "metadata": {
        "id": "wOpYWgrFyQpV"
      },
      "execution_count": null,
      "outputs": []
    },
    {
      "cell_type": "code",
      "source": [
        "L2=[1,2,3,4,5,6,7]\n",
        "print(L2)"
      ],
      "metadata": {
        "colab": {
          "base_uri": "https://localhost:8080/"
        },
        "id": "hqbh8DUz913M",
        "outputId": "3aaa2ded-8f87-4804-aee1-864fac831edd"
      },
      "execution_count": null,
      "outputs": [
        {
          "output_type": "stream",
          "name": "stdout",
          "text": [
            "[1, 2, 3, 4, 5, 6, 7]\n"
          ]
        }
      ]
    },
    {
      "cell_type": "code",
      "source": [
        "L2[2]=8\n",
        "print(L2)"
      ],
      "metadata": {
        "colab": {
          "base_uri": "https://localhost:8080/"
        },
        "id": "e45qWWab-Dqu",
        "outputId": "722d503d-d980-4b30-b809-376170a37978"
      },
      "execution_count": null,
      "outputs": [
        {
          "output_type": "stream",
          "name": "stdout",
          "text": [
            "[1, 2, 8, 4, 5, 6, 7]\n"
          ]
        }
      ]
    },
    {
      "cell_type": "code",
      "source": [
        "L2[-1]"
      ],
      "metadata": {
        "colab": {
          "base_uri": "https://localhost:8080/"
        },
        "id": "_kQZFMEunQTP",
        "outputId": "1c2d9e63-148c-49a6-9570-651f9623cb00"
      },
      "execution_count": null,
      "outputs": [
        {
          "output_type": "execute_result",
          "data": {
            "text/plain": [
              "7"
            ]
          },
          "metadata": {},
          "execution_count": 12
        }
      ]
    },
    {
      "cell_type": "code",
      "source": [
        "L2[-3]"
      ],
      "metadata": {
        "colab": {
          "base_uri": "https://localhost:8080/"
        },
        "id": "5LS6RwTNnU7l",
        "outputId": "2dcf8ee8-6fe4-4406-f8ef-7df674fa600b"
      },
      "execution_count": null,
      "outputs": [
        {
          "output_type": "execute_result",
          "data": {
            "text/plain": [
              "5"
            ]
          },
          "metadata": {},
          "execution_count": 13
        }
      ]
    },
    {
      "cell_type": "code",
      "source": [
        "L2[3:6]"
      ],
      "metadata": {
        "colab": {
          "base_uri": "https://localhost:8080/"
        },
        "id": "RVCGtCBbn5sl",
        "outputId": "0d3ee130-7ac9-4f90-94a4-76a517a15834"
      },
      "execution_count": null,
      "outputs": [
        {
          "output_type": "execute_result",
          "data": {
            "text/plain": [
              "[4, 5, 6]"
            ]
          },
          "metadata": {},
          "execution_count": 15
        }
      ]
    },
    {
      "cell_type": "code",
      "source": [],
      "metadata": {
        "id": "31hb3nGcojJW"
      },
      "execution_count": null,
      "outputs": []
    },
    {
      "cell_type": "code",
      "source": [
        "# Accessing List items\n",
        "print(L2[5])"
      ],
      "metadata": {
        "colab": {
          "base_uri": "https://localhost:8080/"
        },
        "id": "tJ7__A36mkL9",
        "outputId": "ae497d84-b05b-4698-97f1-e9cafacd33a6"
      },
      "execution_count": null,
      "outputs": [
        {
          "output_type": "stream",
          "name": "stdout",
          "text": [
            "6\n"
          ]
        }
      ]
    },
    {
      "cell_type": "code",
      "source": [
        "L2[-5:]"
      ],
      "metadata": {
        "colab": {
          "base_uri": "https://localhost:8080/"
        },
        "id": "OxLqX5LDn1_c",
        "outputId": "026d59d3-5fb1-40a5-a5e4-e10ba438e4b6"
      },
      "execution_count": null,
      "outputs": [
        {
          "output_type": "execute_result",
          "data": {
            "text/plain": [
              "[8, 4, 5, 6, 7]"
            ]
          },
          "metadata": {},
          "execution_count": 16
        }
      ]
    },
    {
      "cell_type": "code",
      "source": [
        "print(L2[2])"
      ],
      "metadata": {
        "colab": {
          "base_uri": "https://localhost:8080/"
        },
        "id": "oom-Yxbjm1tV",
        "outputId": "679f0d38-0e94-4c0f-edbb-639f9ff1452f"
      },
      "execution_count": null,
      "outputs": [
        {
          "output_type": "stream",
          "name": "stdout",
          "text": [
            "8\n"
          ]
        }
      ]
    },
    {
      "cell_type": "code",
      "source": [
        "L2[2:]"
      ],
      "metadata": {
        "colab": {
          "base_uri": "https://localhost:8080/"
        },
        "id": "51GOE-nmrfw-",
        "outputId": "d415f97a-d8e4-472d-9d9e-614dbf2c06e0"
      },
      "execution_count": null,
      "outputs": [
        {
          "output_type": "execute_result",
          "data": {
            "text/plain": [
              "[8, 4, 5, 6, 7]"
            ]
          },
          "metadata": {},
          "execution_count": 17
        }
      ]
    },
    {
      "cell_type": "code",
      "source": [
        "L2[1:3]=\"A\",\"B\"\n",
        "print(L2)"
      ],
      "metadata": {
        "colab": {
          "base_uri": "https://localhost:8080/"
        },
        "id": "bkMGw4uN-LQm",
        "outputId": "439ea631-4460-4269-f054-6b3226392466"
      },
      "execution_count": null,
      "outputs": [
        {
          "output_type": "stream",
          "name": "stdout",
          "text": [
            "[1, 'A', 'B', 'C', 4, 5, 6, 7]\n"
          ]
        }
      ]
    },
    {
      "cell_type": "code",
      "source": [
        "L2[0:4]"
      ],
      "metadata": {
        "colab": {
          "base_uri": "https://localhost:8080/"
        },
        "id": "xMr43OfTm0v_",
        "outputId": "9b8923d1-95ab-4ba0-d6e3-8267f2f94f3d"
      },
      "execution_count": null,
      "outputs": [
        {
          "output_type": "execute_result",
          "data": {
            "text/plain": [
              "[1, 2, 8, 4]"
            ]
          },
          "metadata": {},
          "execution_count": 18
        }
      ]
    },
    {
      "cell_type": "code",
      "source": [
        "L2[:4]"
      ],
      "metadata": {
        "colab": {
          "base_uri": "https://localhost:8080/"
        },
        "id": "4fufKMcGr-aO",
        "outputId": "0d7a0327-cc8f-4d5d-9a3d-cb5e4f852cc7"
      },
      "execution_count": null,
      "outputs": [
        {
          "output_type": "execute_result",
          "data": {
            "text/plain": [
              "[1, 2, 8, 4]"
            ]
          },
          "metadata": {},
          "execution_count": 19
        }
      ]
    },
    {
      "cell_type": "code",
      "source": [
        "L2[2]=2\n",
        "print(L2)"
      ],
      "metadata": {
        "colab": {
          "base_uri": "https://localhost:8080/"
        },
        "id": "f83mx9yt-3JL",
        "outputId": "aaa0b31d-841a-4f39-c365-e5fb2f5349b1"
      },
      "execution_count": null,
      "outputs": [
        {
          "output_type": "stream",
          "name": "stdout",
          "text": [
            "[1, 'A', 2, 'C', 4, 5, 6, 7]\n"
          ]
        }
      ]
    },
    {
      "cell_type": "code",
      "source": [
        "L3=[6,7,8,9]\n",
        "L3[2]=13\n",
        "print(L3)"
      ],
      "metadata": {
        "colab": {
          "base_uri": "https://localhost:8080/"
        },
        "id": "y5M8j3uvH8T2",
        "outputId": "0949b828-c385-471f-e261-d33746567514"
      },
      "execution_count": null,
      "outputs": [
        {
          "output_type": "stream",
          "name": "stdout",
          "text": [
            "[6, 7, 13, 9]\n"
          ]
        }
      ]
    },
    {
      "cell_type": "code",
      "source": [
        "# Append Items\n",
        "# To add an item to the end of the list, use the append() method:"
      ],
      "metadata": {
        "id": "VPtiK2c-QDds"
      },
      "execution_count": null,
      "outputs": []
    },
    {
      "cell_type": "code",
      "source": [
        "course=[\"Python\",\"SQL\",\"Stats\"]\n",
        "print(course)"
      ],
      "metadata": {
        "colab": {
          "base_uri": "https://localhost:8080/"
        },
        "id": "qqptCHKqLq0E",
        "outputId": "2d27e23c-54a2-40c7-dddf-09bb39ebe6c3"
      },
      "execution_count": null,
      "outputs": [
        {
          "output_type": "stream",
          "name": "stdout",
          "text": [
            "['Python', 'SQL', 'Stats']\n"
          ]
        }
      ]
    },
    {
      "cell_type": "code",
      "source": [
        "course.append(\"Excel\")\n",
        "print(course)"
      ],
      "metadata": {
        "colab": {
          "base_uri": "https://localhost:8080/"
        },
        "id": "ZbKNB_f8NS5T",
        "outputId": "0683f598-19c9-4f97-9155-bc1f2ad0bc3f"
      },
      "execution_count": null,
      "outputs": [
        {
          "output_type": "stream",
          "name": "stdout",
          "text": [
            "['Python', 'SQL', 'Stats', 'Excel']\n"
          ]
        }
      ]
    },
    {
      "cell_type": "code",
      "source": [
        "# Insert Items\n",
        "# To insert a list item at a specified index, use the insert() method"
      ],
      "metadata": {
        "id": "pFCvDPEnQN4N"
      },
      "execution_count": null,
      "outputs": []
    },
    {
      "cell_type": "code",
      "source": [
        "course.insert(3,'Algo')\n",
        "print(course)"
      ],
      "metadata": {
        "colab": {
          "base_uri": "https://localhost:8080/"
        },
        "id": "YqobQhaJNhmo",
        "outputId": "d9c34a0b-783e-43b4-d1e3-23ff75fa9e73"
      },
      "execution_count": null,
      "outputs": [
        {
          "output_type": "stream",
          "name": "stdout",
          "text": [
            "['Python', 'SQL', 'Stats', 'Algo', 'Excel']\n"
          ]
        }
      ]
    },
    {
      "cell_type": "code",
      "source": [
        "company=['TCS','Infosys','Wipro']\n",
        "print(company)"
      ],
      "metadata": {
        "colab": {
          "base_uri": "https://localhost:8080/"
        },
        "id": "qaUV3aMbODYG",
        "outputId": "dfe0eee2-4883-4d47-d11e-a96ac5ca743d"
      },
      "execution_count": null,
      "outputs": [
        {
          "output_type": "stream",
          "name": "stdout",
          "text": [
            "['TCS', 'Infosys', 'Wipro']\n"
          ]
        }
      ]
    },
    {
      "cell_type": "code",
      "source": [
        "# Extend List\n",
        "# To append elements from another list to the current list, use the extend() method."
      ],
      "metadata": {
        "id": "2KySIHDJPR1h"
      },
      "execution_count": null,
      "outputs": []
    },
    {
      "cell_type": "code",
      "source": [
        "course.extend(company)"
      ],
      "metadata": {
        "id": "tuNgxmnyOoXR"
      },
      "execution_count": null,
      "outputs": []
    },
    {
      "cell_type": "code",
      "source": [
        "print(course)"
      ],
      "metadata": {
        "colab": {
          "base_uri": "https://localhost:8080/"
        },
        "id": "xdZt4ZU-PASi",
        "outputId": "df0d8a3f-b443-4321-95bd-65e1cb1d985d"
      },
      "execution_count": null,
      "outputs": [
        {
          "output_type": "stream",
          "name": "stdout",
          "text": [
            "['Python', 'SQL', 'Stats', 'Algo', 'Excel', 'TCS', 'Infosys', 'Wipro']\n"
          ]
        }
      ]
    },
    {
      "cell_type": "code",
      "source": [
        "# Remove Specified Item\n",
        "# The remove() method removes the specified item."
      ],
      "metadata": {
        "id": "XqbWhUSTPIpJ"
      },
      "execution_count": null,
      "outputs": []
    },
    {
      "cell_type": "code",
      "source": [
        "course.remove('Algo')\n",
        "print(course)"
      ],
      "metadata": {
        "colab": {
          "base_uri": "https://localhost:8080/"
        },
        "id": "TN0vUTsVQeqU",
        "outputId": "b1ff2e46-ad9e-4db0-eb62-86e3368076ec"
      },
      "execution_count": null,
      "outputs": [
        {
          "output_type": "stream",
          "name": "stdout",
          "text": [
            "['Python', 'SQL', 'Stats', 'Excel', 'TCS', 'Infosys', 'Wipro']\n"
          ]
        }
      ]
    },
    {
      "cell_type": "code",
      "source": [
        "#Remove Specified item\n",
        "# pop method\n",
        "course.pop(3)\n",
        "print(course)"
      ],
      "metadata": {
        "colab": {
          "base_uri": "https://localhost:8080/"
        },
        "id": "mGlWm5Oldcjk",
        "outputId": "e55cfd46-c975-4ee5-fe53-840c952dbf5c"
      },
      "execution_count": null,
      "outputs": [
        {
          "output_type": "stream",
          "name": "stdout",
          "text": [
            "['Python', 'SQL', 'Stats', 'Infosys', 'Wipro']\n"
          ]
        }
      ]
    },
    {
      "cell_type": "code",
      "source": [
        "course.pop()"
      ],
      "metadata": {
        "colab": {
          "base_uri": "https://localhost:8080/",
          "height": 35
        },
        "id": "sWHp3SgofPEL",
        "outputId": "9eafcd7f-36e7-447f-abc4-93b168650fcb"
      },
      "execution_count": null,
      "outputs": [
        {
          "output_type": "execute_result",
          "data": {
            "text/plain": [
              "'Wipro'"
            ],
            "application/vnd.google.colaboratory.intrinsic+json": {
              "type": "string"
            }
          },
          "metadata": {},
          "execution_count": 10
        }
      ]
    },
    {
      "cell_type": "code",
      "source": [
        "print(course)\n"
      ],
      "metadata": {
        "colab": {
          "base_uri": "https://localhost:8080/"
        },
        "id": "zt5lx4msfS2B",
        "outputId": "c151193a-2861-4f22-dcf5-33fa172c365c"
      },
      "execution_count": null,
      "outputs": [
        {
          "output_type": "stream",
          "name": "stdout",
          "text": [
            "['Python', 'SQL', 'Stats', 'Infosys']\n"
          ]
        }
      ]
    },
    {
      "cell_type": "code",
      "source": [
        "# del method\n",
        "del course[0]"
      ],
      "metadata": {
        "id": "bID_eKpbfq9a"
      },
      "execution_count": null,
      "outputs": []
    },
    {
      "cell_type": "code",
      "source": [
        "print(course)"
      ],
      "metadata": {
        "colab": {
          "base_uri": "https://localhost:8080/"
        },
        "id": "jt-pbf1bf8JR",
        "outputId": "edcca97c-330a-4d35-f127-b919157308fc"
      },
      "execution_count": null,
      "outputs": [
        {
          "output_type": "stream",
          "name": "stdout",
          "text": [
            "['SQL', 'Stats', 'Infosys']\n"
          ]
        }
      ]
    },
    {
      "cell_type": "code",
      "source": [
        "L5=[1,2,3]\n",
        "L5"
      ],
      "metadata": {
        "colab": {
          "base_uri": "https://localhost:8080/"
        },
        "id": "-AkhvHcfgCUS",
        "outputId": "3fc2003f-406a-42f0-8f95-2c9e326e63cd"
      },
      "execution_count": null,
      "outputs": [
        {
          "output_type": "execute_result",
          "data": {
            "text/plain": [
              "[1, 2, 3]"
            ]
          },
          "metadata": {},
          "execution_count": 17
        }
      ]
    },
    {
      "cell_type": "code",
      "source": [
        "del L5\n",
        "L5"
      ],
      "metadata": {
        "colab": {
          "base_uri": "https://localhost:8080/",
          "height": 159
        },
        "id": "qbjlQdMhgNTp",
        "outputId": "63b9f51a-553c-4000-d61d-41e301ecdd0c"
      },
      "execution_count": null,
      "outputs": [
        {
          "output_type": "error",
          "ename": "NameError",
          "evalue": "name 'L5' is not defined",
          "traceback": [
            "\u001b[0;31m---------------------------------------------------------------------------\u001b[0m",
            "\u001b[0;31mNameError\u001b[0m                                 Traceback (most recent call last)",
            "\u001b[0;32m<ipython-input-19-d0cbafc5bdaf>\u001b[0m in \u001b[0;36m<cell line: 1>\u001b[0;34m()\u001b[0m\n\u001b[0;32m----> 1\u001b[0;31m \u001b[0;32mdel\u001b[0m \u001b[0mL5\u001b[0m\u001b[0;34m\u001b[0m\u001b[0;34m\u001b[0m\u001b[0m\n\u001b[0m\u001b[1;32m      2\u001b[0m \u001b[0mL5\u001b[0m\u001b[0;34m\u001b[0m\u001b[0;34m\u001b[0m\u001b[0m\n",
            "\u001b[0;31mNameError\u001b[0m: name 'L5' is not defined"
          ]
        }
      ]
    },
    {
      "cell_type": "code",
      "source": [
        "#Clear method\n",
        "\n",
        "L6=[10,11,12]\n",
        "L6"
      ],
      "metadata": {
        "colab": {
          "base_uri": "https://localhost:8080/"
        },
        "id": "fbPoapPyidY5",
        "outputId": "a46902d2-3fb1-40aa-b1ae-2fa2dafc922b"
      },
      "execution_count": null,
      "outputs": [
        {
          "output_type": "execute_result",
          "data": {
            "text/plain": [
              "[10, 11, 12]"
            ]
          },
          "metadata": {},
          "execution_count": 20
        }
      ]
    },
    {
      "cell_type": "code",
      "source": [
        "L6.clear()"
      ],
      "metadata": {
        "id": "eLo3axcvipdh"
      },
      "execution_count": null,
      "outputs": []
    },
    {
      "cell_type": "code",
      "source": [
        "L6"
      ],
      "metadata": {
        "colab": {
          "base_uri": "https://localhost:8080/"
        },
        "id": "S-Wom8pIivj6",
        "outputId": "340bc988-b7e4-4830-80e9-89f1332c052f"
      },
      "execution_count": null,
      "outputs": [
        {
          "output_type": "execute_result",
          "data": {
            "text/plain": [
              "[]"
            ]
          },
          "metadata": {},
          "execution_count": 23
        }
      ]
    },
    {
      "cell_type": "code",
      "source": [
        "# Copy List"
      ],
      "metadata": {
        "id": "zwI_haquTdUB"
      },
      "execution_count": null,
      "outputs": []
    },
    {
      "cell_type": "code",
      "source": [
        "movie=[\"ABC\",\"RRR\",\"Lagan\"]"
      ],
      "metadata": {
        "id": "BqXX7A5WFP0F"
      },
      "execution_count": null,
      "outputs": []
    },
    {
      "cell_type": "code",
      "source": [
        "print(movie)"
      ],
      "metadata": {
        "colab": {
          "base_uri": "https://localhost:8080/"
        },
        "id": "s2LJOHRiFedc",
        "outputId": "21d396c2-10c4-453a-f6eb-8dab11092e0e"
      },
      "execution_count": null,
      "outputs": [
        {
          "output_type": "stream",
          "name": "stdout",
          "text": [
            "['ABC', 'RRR', 'Lagan']\n"
          ]
        }
      ]
    },
    {
      "cell_type": "code",
      "source": [
        "Film=movie.copy()"
      ],
      "metadata": {
        "id": "Poka4VrbGF6K"
      },
      "execution_count": null,
      "outputs": []
    },
    {
      "cell_type": "code",
      "source": [
        "print(Film)"
      ],
      "metadata": {
        "colab": {
          "base_uri": "https://localhost:8080/"
        },
        "id": "sPb2Q5ZYGjWq",
        "outputId": "d51d030e-c1a2-4d14-dac9-e256bdd261f9"
      },
      "execution_count": null,
      "outputs": [
        {
          "output_type": "stream",
          "name": "stdout",
          "text": [
            "['ABC', 'RRR', 'Lagan']\n"
          ]
        }
      ]
    },
    {
      "cell_type": "code",
      "source": [
        "Film2=list(movie)"
      ],
      "metadata": {
        "id": "dnadj32KGlZy"
      },
      "execution_count": null,
      "outputs": []
    },
    {
      "cell_type": "code",
      "source": [
        "print(Film2)"
      ],
      "metadata": {
        "colab": {
          "base_uri": "https://localhost:8080/"
        },
        "id": "xZS6i8WTGyuK",
        "outputId": "5293db95-e9ae-462c-abdc-bbca5faf095e"
      },
      "execution_count": null,
      "outputs": [
        {
          "output_type": "stream",
          "name": "stdout",
          "text": [
            "['ABC', 'RRR', 'Lagan']\n"
          ]
        }
      ]
    },
    {
      "cell_type": "code",
      "source": [
        "# Join Two Lists-  two lists is by appending all the items from list2 into list1"
      ],
      "metadata": {
        "id": "RkWcB08jG1ty"
      },
      "execution_count": null,
      "outputs": []
    },
    {
      "cell_type": "code",
      "source": [
        "L11=[1,2,3,4]"
      ],
      "metadata": {
        "id": "D_ABh68zHXXd"
      },
      "execution_count": null,
      "outputs": []
    },
    {
      "cell_type": "code",
      "source": [
        "L12=['smily','pricy','seeky']"
      ],
      "metadata": {
        "id": "fsxtPPYoHg5y"
      },
      "execution_count": null,
      "outputs": []
    },
    {
      "cell_type": "code",
      "source": [
        "L13=L11+L12"
      ],
      "metadata": {
        "id": "pbDcs-Z_Hqqq"
      },
      "execution_count": null,
      "outputs": []
    },
    {
      "cell_type": "code",
      "source": [
        "print(L13)"
      ],
      "metadata": {
        "colab": {
          "base_uri": "https://localhost:8080/"
        },
        "id": "1JBm9wfbHwY6",
        "outputId": "6672eb2e-e62d-4717-d8c9-772c9d68a725"
      },
      "execution_count": null,
      "outputs": [
        {
          "output_type": "stream",
          "name": "stdout",
          "text": [
            "[1, 2, 3, 4, 'smily', 'pricy', 'seeky']\n"
          ]
        }
      ]
    },
    {
      "cell_type": "code",
      "source": [
        "print(max(L11))"
      ],
      "metadata": {
        "colab": {
          "base_uri": "https://localhost:8080/"
        },
        "id": "qvzdInQPHybK",
        "outputId": "16e86dd8-1ff9-46ba-dff2-3ccdf6bc45b7"
      },
      "execution_count": null,
      "outputs": [
        {
          "output_type": "stream",
          "name": "stdout",
          "text": [
            "4\n"
          ]
        }
      ]
    },
    {
      "cell_type": "code",
      "source": [
        "print(min(L11))"
      ],
      "metadata": {
        "id": "BF-soARaNpQW",
        "colab": {
          "base_uri": "https://localhost:8080/"
        },
        "outputId": "04caaaec-61e4-415d-fdf6-e7937540ad7d"
      },
      "execution_count": null,
      "outputs": [
        {
          "output_type": "stream",
          "name": "stdout",
          "text": [
            "1\n"
          ]
        }
      ]
    },
    {
      "cell_type": "code",
      "source": [
        "# Sort Method\n",
        "L7=[20,23,82,5,67]"
      ],
      "metadata": {
        "id": "CQ7aiE94yGIy"
      },
      "execution_count": null,
      "outputs": []
    },
    {
      "cell_type": "code",
      "source": [
        "print(L7)"
      ],
      "metadata": {
        "colab": {
          "base_uri": "https://localhost:8080/"
        },
        "id": "VB47jfd6lYc5",
        "outputId": "6a8cac73-d9e5-479d-fe45-606d25c9c64e"
      },
      "execution_count": null,
      "outputs": [
        {
          "output_type": "stream",
          "name": "stdout",
          "text": [
            "[20, 23, 82, 5, 67]\n"
          ]
        }
      ]
    },
    {
      "cell_type": "code",
      "source": [
        "L7.sort()"
      ],
      "metadata": {
        "id": "UqCmQemIla1f"
      },
      "execution_count": null,
      "outputs": []
    },
    {
      "cell_type": "code",
      "source": [
        "print(L7)"
      ],
      "metadata": {
        "colab": {
          "base_uri": "https://localhost:8080/"
        },
        "id": "SNgH0AHeldYg",
        "outputId": "590f171a-f332-48c1-d857-0558cc481ab7"
      },
      "execution_count": null,
      "outputs": [
        {
          "output_type": "stream",
          "name": "stdout",
          "text": [
            "[5, 20, 23, 67, 82]\n"
          ]
        }
      ]
    },
    {
      "cell_type": "code",
      "source": [
        "L8=[21,45,82,5,67]"
      ],
      "metadata": {
        "id": "TvFrddNulf9w"
      },
      "execution_count": null,
      "outputs": []
    },
    {
      "cell_type": "code",
      "source": [
        "print(L8)"
      ],
      "metadata": {
        "colab": {
          "base_uri": "https://localhost:8080/"
        },
        "id": "7GA1D-Sglzwo",
        "outputId": "1113f172-28b5-4ddd-a875-14a3c45200fd"
      },
      "execution_count": null,
      "outputs": [
        {
          "output_type": "stream",
          "name": "stdout",
          "text": [
            "[21, 45, 82, 5, 67]\n"
          ]
        }
      ]
    },
    {
      "cell_type": "code",
      "source": [
        "L8.sort(reverse=True)"
      ],
      "metadata": {
        "id": "J7RNMqubl1UQ"
      },
      "execution_count": null,
      "outputs": []
    },
    {
      "cell_type": "code",
      "source": [
        "print(L8)"
      ],
      "metadata": {
        "id": "BOakUyDsl5no",
        "outputId": "ae0cac5b-f96f-4b6b-cfc4-0f4bcf84b468",
        "colab": {
          "base_uri": "https://localhost:8080/"
        }
      },
      "execution_count": null,
      "outputs": [
        {
          "output_type": "stream",
          "name": "stdout",
          "text": [
            "[82, 67, 45, 21, 5]\n"
          ]
        }
      ]
    },
    {
      "cell_type": "code",
      "source": [],
      "metadata": {
        "id": "_ZbCd8Wfl7MQ"
      },
      "execution_count": null,
      "outputs": []
    }
  ]
}